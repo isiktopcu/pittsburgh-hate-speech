{
  "nbformat": 4,
  "nbformat_minor": 0,
  "metadata": {
    "colab": {
      "provenance": [],
      "machine_shape": "hm",
      "gpuType": "V100"
    },
    "kernelspec": {
      "name": "python3",
      "display_name": "Python 3"
    },
    "language_info": {
      "name": "python"
    },
    "accelerator": "GPU"
  },
  "cells": [
    {
      "cell_type": "code",
      "execution_count": 1,
      "metadata": {
        "id": "q7oX8_I-dFki"
      },
      "outputs": [],
      "source": [
        "import pandas as pd\n",
        "import numpy as np"
      ]
    },
    {
      "cell_type": "code",
      "source": [
        "df = pd.read_excel(\"/content/drive/MyDrive/pittsburgh-annotation/hate-speech-fırat-annotated.xlsx\")"
      ],
      "metadata": {
        "id": "Y15CEJhkdWwh"
      },
      "execution_count": 2,
      "outputs": []
    },
    {
      "cell_type": "code",
      "source": [
        "df[\"Hate Speech\"] = df[\"Hate Speech\"].fillna(\"0\")"
      ],
      "metadata": {
        "id": "9bKfZlSXdkOC"
      },
      "execution_count": 3,
      "outputs": []
    },
    {
      "cell_type": "code",
      "source": [
        "df[\"Hate Speech\"].value_counts()"
      ],
      "metadata": {
        "id": "bjelKxPSeWvf",
        "colab": {
          "base_uri": "https://localhost:8080/"
        },
        "outputId": "e1970844-5067-4307-b237-59e35d7b1ba5"
      },
      "execution_count": 4,
      "outputs": [
        {
          "output_type": "execute_result",
          "data": {
            "text/plain": [
              "0      2829\n",
              "1.0     123\n",
              "0.0      48\n",
              "Name: Hate Speech, dtype: int64"
            ]
          },
          "metadata": {},
          "execution_count": 4
        }
      ]
    },
    {
      "cell_type": "code",
      "source": [
        "df['Hate Speech'] = df['Hate Speech'].astype(int)"
      ],
      "metadata": {
        "id": "GNx-4DD6egWx"
      },
      "execution_count": 5,
      "outputs": []
    },
    {
      "cell_type": "code",
      "source": [
        "df['Hate Speech'].value_counts()"
      ],
      "metadata": {
        "colab": {
          "base_uri": "https://localhost:8080/"
        },
        "id": "tMaK5oVafIch",
        "outputId": "f5094f6c-eec7-457e-f1d3-0556c6b105ff"
      },
      "execution_count": 6,
      "outputs": [
        {
          "output_type": "execute_result",
          "data": {
            "text/plain": [
              "0    2877\n",
              "1     123\n",
              "Name: Hate Speech, dtype: int64"
            ]
          },
          "metadata": {},
          "execution_count": 6
        }
      ]
    },
    {
      "cell_type": "code",
      "source": [
        "df.columns"
      ],
      "metadata": {
        "colab": {
          "base_uri": "https://localhost:8080/"
        },
        "id": "EyF2LJ1Pf6mp",
        "outputId": "c56bacc1-0d48-48a5-c216-24f290400335"
      },
      "execution_count": 7,
      "outputs": [
        {
          "output_type": "execute_result",
          "data": {
            "text/plain": [
              "Index(['Annotator', '#_annotation', 'text', 'dis_hate_spee', 'Hate Speech'], dtype='object')"
            ]
          },
          "metadata": {},
          "execution_count": 7
        }
      ]
    },
    {
      "cell_type": "code",
      "source": [
        "df.rename(columns={\"Hate Speech\":\"label\"},inplace=True)"
      ],
      "metadata": {
        "id": "6fHm1UCLfJt4"
      },
      "execution_count": 8,
      "outputs": []
    },
    {
      "cell_type": "code",
      "source": [
        "df"
      ],
      "metadata": {
        "id": "-KtvRiedgCRA"
      },
      "execution_count": null,
      "outputs": []
    },
    {
      "cell_type": "code",
      "source": [
        "import re\n",
        "\n",
        "def preprocess_turkish_text(text):\n",
        "    text = re.sub(r'@\\w+', '', text)\n",
        "    text = re.sub(r'http\\S+|https\\S+', '', text)\n",
        "    return text.strip()"
      ],
      "metadata": {
        "id": "i4GkrJ9TgC2j"
      },
      "execution_count": 10,
      "outputs": []
    },
    {
      "cell_type": "code",
      "source": [
        "df['text'] = df['text'].apply(preprocess_turkish_text)"
      ],
      "metadata": {
        "id": "TxrfvMXRgnCZ"
      },
      "execution_count": 11,
      "outputs": []
    },
    {
      "cell_type": "code",
      "source": [
        "df[\"label\"].value_counts()"
      ],
      "metadata": {
        "colab": {
          "base_uri": "https://localhost:8080/"
        },
        "id": "-Su_I-VZgpGq",
        "outputId": "d3e087ba-6477-460c-c5bc-926dd592f1b2"
      },
      "execution_count": 12,
      "outputs": [
        {
          "output_type": "execute_result",
          "data": {
            "text/plain": [
              "0    2877\n",
              "1     123\n",
              "Name: label, dtype: int64"
            ]
          },
          "metadata": {},
          "execution_count": 12
        }
      ]
    },
    {
      "cell_type": "markdown",
      "source": [
        "# Resampling"
      ],
      "metadata": {
        "id": "50P5g-3B_Kas"
      }
    },
    {
      "cell_type": "code",
      "source": [
        "from sklearn.utils import resample"
      ],
      "metadata": {
        "id": "VjDwHkCI8825"
      },
      "execution_count": 13,
      "outputs": []
    },
    {
      "cell_type": "code",
      "source": [
        "majority_class = df[df['label'] == 0]\n",
        "minority_class = df[df['label'] == 1]\n",
        "minority_class_upsampled = resample(minority_class,\n",
        "                                    replace=True,\n",
        "                                    n_samples=len(majority_class),\n",
        "                                    random_state=42)\n",
        "hate_speech_balanced = pd.concat([majority_class, minority_class_upsampled])\n",
        "hate_speech_balanced['label'].value_counts()"
      ],
      "metadata": {
        "colab": {
          "base_uri": "https://localhost:8080/"
        },
        "id": "eI9RhH4wBl7e",
        "outputId": "df0dc589-b54e-4966-82a2-fd71bd185827"
      },
      "execution_count": 14,
      "outputs": [
        {
          "output_type": "execute_result",
          "data": {
            "text/plain": [
              "0    2877\n",
              "1    2877\n",
              "Name: label, dtype: int64"
            ]
          },
          "metadata": {},
          "execution_count": 14
        }
      ]
    },
    {
      "cell_type": "markdown",
      "source": [
        "# Train & Val & Test Split"
      ],
      "metadata": {
        "id": "xnRE75M8_YNK"
      }
    },
    {
      "cell_type": "code",
      "source": [
        "from sklearn.model_selection import train_test_split\n",
        "train_val_set, test_set = train_test_split(hate_speech_balanced, test_size=0.2, random_state=42)\n",
        "train_set, val_set = train_test_split(train_val_set, test_size=1/8, random_state=42)\n",
        "(train_set.shape[0], val_set.shape[0], test_set.shape[0])"
      ],
      "metadata": {
        "colab": {
          "base_uri": "https://localhost:8080/"
        },
        "id": "_8N5lXgA5HyX",
        "outputId": "e3f426a4-2a2c-4265-c0c8-ae1bc0adc62a"
      },
      "execution_count": 15,
      "outputs": [
        {
          "output_type": "execute_result",
          "data": {
            "text/plain": [
              "(4027, 576, 1151)"
            ]
          },
          "metadata": {},
          "execution_count": 15
        }
      ]
    },
    {
      "cell_type": "code",
      "source": [
        "train_set.to_json(\"/content/drive/MyDrive/pittsburgh-annotation/train.json\", orient=\"records\",lines=True)\n",
        "val_set.to_json(\"/content/drive/MyDrive/pittsburgh-annotation/validation.json\", orient=\"records\",lines=True)\n",
        "test_set.to_json(\"/content/drive/MyDrive/pittsburgh-annotation/test.json\", orient=\"records\",lines=True)"
      ],
      "metadata": {
        "id": "i8OPrFWX88tx"
      },
      "execution_count": 16,
      "outputs": []
    },
    {
      "cell_type": "code",
      "source": [
        "train = pd.read_json(\"/content/drive/MyDrive/pittsburgh-annotation/train.json\", orient=\"records\",lines=True)"
      ],
      "metadata": {
        "id": "NMXzdwDw_t1V"
      },
      "execution_count": 17,
      "outputs": []
    },
    {
      "cell_type": "code",
      "source": [
        "train[\"label\"].value_counts()"
      ],
      "metadata": {
        "id": "l8_LF2K-I-6u",
        "outputId": "7b488b4c-8c47-40af-fb41-656374f1d726",
        "colab": {
          "base_uri": "https://localhost:8080/"
        }
      },
      "execution_count": 18,
      "outputs": [
        {
          "output_type": "execute_result",
          "data": {
            "text/plain": [
              "0    2014\n",
              "1    2013\n",
              "Name: label, dtype: int64"
            ]
          },
          "metadata": {},
          "execution_count": 18
        }
      ]
    },
    {
      "cell_type": "code",
      "source": [
        "import random"
      ],
      "metadata": {
        "id": "zxplUYQ0V68U"
      },
      "execution_count": 1,
      "outputs": []
    },
    {
      "cell_type": "code",
      "source": [
        "import numpy as np"
      ],
      "metadata": {
        "id": "pZdGb8zWV9S-"
      },
      "execution_count": 2,
      "outputs": []
    },
    {
      "cell_type": "code",
      "source": [
        "import torch"
      ],
      "metadata": {
        "id": "jdncNQajWAdv"
      },
      "execution_count": 3,
      "outputs": []
    },
    {
      "cell_type": "code",
      "source": [
        "def set_seed(seed=12):\n",
        "    random.seed(seed)\n",
        "    np.random.seed(seed)\n",
        "    torch.manual_seed(seed)\n",
        "    torch.cuda.manual_seed_all(seed)\n",
        "\n",
        "set_seed(12)"
      ],
      "metadata": {
        "id": "iYYP5YyjCOn5"
      },
      "execution_count": 4,
      "outputs": []
    },
    {
      "cell_type": "code",
      "source": [
        "import torch\n",
        "from collections import Counter\n",
        "from sklearn.utils import resample\n",
        "from transformers import BertConfig\n",
        "from transformers import AutoModelForSequenceClassification, AutoTokenizer, ConvBertConfig\n",
        "from torch.utils.data import DataLoader, Dataset\n",
        "import json\n",
        "import matplotlib.pyplot as plt\n",
        "from sklearn.metrics import precision_recall_fscore_support, matthews_corrcoef\n",
        "from transformers import get_linear_schedule_with_warmup\n",
        "import random\n",
        "from sklearn.utils.class_weight import compute_class_weight\n",
        "\n",
        "# Parameters\n",
        "pretrained_model = \"dbmdz/bert-base-turkish-128k-cased\"\n",
        "max_seq_length = 512\n",
        "batch_size = 8\n",
        "num_epochs = 3\n",
        "learning_rate = 2e-5\n",
        "\n",
        "device = torch.device(\"cuda\" if torch.cuda.is_available() else \"cpu\")\n",
        "\n",
        "class SimpleDataset(Dataset):\n",
        "    def __init__(self, examples, tokenizer, max_length=max_seq_length):\n",
        "        self.examples = examples\n",
        "        self.tokenizer = tokenizer\n",
        "        self.max_length = max_length\n",
        "\n",
        "    def __len__(self):\n",
        "        return len(self.examples)\n",
        "\n",
        "    def __getitem__(self, idx):\n",
        "        text, label = self.examples[idx]\n",
        "        text = text if isinstance(text, str) else \"\"\n",
        "        encoded = self.tokenizer.encode_plus(\n",
        "            text,\n",
        "            add_special_tokens=True,\n",
        "            max_length=self.max_length,\n",
        "            padding='max_length',\n",
        "            return_attention_mask=True,\n",
        "            truncation=True\n",
        "        )\n",
        "        return torch.tensor(encoded['input_ids']), torch.tensor(encoded['attention_mask']), torch.tensor(label)\n",
        "\n",
        "\n",
        "def load_data(filename):\n",
        "    with open(filename, 'r', encoding='utf-8') as file:\n",
        "        lines = [json.loads(line) for line in file.readlines()]\n",
        "    return [(line['text'], line['label']) for line in lines if line['text']]\n",
        "\n",
        "\n",
        "tokenizer = AutoTokenizer.from_pretrained(pretrained_model)\n",
        "config = BertConfig.from_pretrained(pretrained_model, num_labels=1, hidden_dropout_prob=0.2, attention_probs_dropout_prob=0.2)\n",
        "\n",
        "model = AutoModelForSequenceClassification.from_pretrained(pretrained_model, config=config)\n",
        "model.to(device)\n",
        "\n",
        "train_data = load_data('/content/drive/MyDrive/pittsburgh-annotation/train.json')\n",
        "test_data = load_data('/content/drive/MyDrive/pittsburgh-annotation/validation.json')\n",
        "\n",
        "train_dataset = SimpleDataset(train_data, tokenizer)\n",
        "test_dataset = SimpleDataset(test_data, tokenizer)\n",
        "train_loader = DataLoader(train_dataset, batch_size=batch_size, shuffle=True)\n",
        "test_loader = DataLoader(test_dataset, batch_size=batch_size)\n",
        "\n",
        "\n",
        "optimizer = torch.optim.AdamW(model.parameters(), lr=learning_rate, weight_decay=1e-5)  #weight_decay=1e-5, lr=2e-5\n",
        "#class_weights = compute_class_weight('balanced', classes=[0, 1], y=[label for _, label in train_data])\n",
        "#class_weights = torch.tensor(class_weights, dtype=torch.float).to(device)\n",
        "criterion = torch.nn.BCEWithLogitsLoss()\n",
        "\n",
        "epoch_losses, epoch_precisions, epoch_recalls, epoch_f1_macros, epoch_mccs = [], [], [], [], []\n",
        "\n",
        "scheduler = get_linear_schedule_with_warmup(optimizer,\n",
        "                                            num_warmup_steps=0,\n",
        "                                            num_training_steps=len(train_loader)*num_epochs)\n",
        "\n",
        "best_val_loss = float('inf')\n",
        "patience, patience_threshold = 0, 2\n",
        "torch.nn.utils.clip_grad_norm_(model.parameters(), max_norm=1.0)\n",
        "\n",
        "best_f1_macro = 0.0\n",
        "best_model_state = None\n",
        "\n",
        "print(\"Starting training...\")\n",
        "for epoch in range(num_epochs):\n",
        "    model.train()\n",
        "    total_loss = 0\n",
        "    for input_ids, attention_mask, labels in train_loader:\n",
        "        input_ids = input_ids.to(device)\n",
        "        attention_mask = attention_mask.to(device)\n",
        "        labels = labels.to(device)\n",
        "        optimizer.zero_grad()\n",
        "        outputs = model(input_ids, attention_mask=attention_mask)\n",
        "        logits = outputs.logits\n",
        "        logits = logits.squeeze(-1)\n",
        "\n",
        "        loss = criterion(logits, labels.float())\n",
        "        loss.backward()\n",
        "        optimizer.step()\n",
        "        scheduler.step()\n",
        "\n",
        "        total_loss += loss.item()\n",
        "\n",
        "\n",
        "    avg_loss = total_loss / len(train_loader)\n",
        "    epoch_losses.append(avg_loss)\n",
        "\n",
        "\n",
        "\n",
        "    model.eval()\n",
        "    all_preds, all_labels = [], []\n",
        "    with torch.no_grad():\n",
        "        for batch in test_loader:\n",
        "            input_ids, attention_mask, labels = batch\n",
        "\n",
        "            input_ids = input_ids.to(device)\n",
        "            attention_mask = attention_mask.to(device)\n",
        "            labels = labels.to(device)\n",
        "\n",
        "            outputs = model(input_ids, attention_mask=attention_mask)\n",
        "            predictions = torch.sigmoid(outputs.logits).round().view(-1)\n",
        "            all_preds.extend(predictions.tolist())\n",
        "            all_labels.extend(labels.view(-1).tolist())\n",
        "\n",
        "\n",
        "    precision, recall, f1_macro, _ = precision_recall_fscore_support(all_labels, all_preds, average='macro', zero_division=0)\n",
        "    mcc = matthews_corrcoef(all_labels, all_preds)\n",
        "    epoch_precisions.append(precision)\n",
        "    epoch_recalls.append(recall)\n",
        "    epoch_f1_macros.append(f1_macro)\n",
        "    epoch_mccs.append(mcc)\n",
        "    if epoch_f1_macros[epoch] > best_f1_macro:\n",
        "        best_f1_macro = epoch_f1_macros[epoch]\n",
        "        best_model_state = model.state_dict().copy()\n",
        "    print(f\"Epoch {epoch + 1}/{num_epochs} - Loss: {avg_loss}, Precision: {precision}, Recall: {recall}, F1 Macro: {f1_macro}, MCC: {mcc}\")\n",
        "\n",
        "model_save_path = '/content/drive/MyDrive/pittsburgh-annotation/hate_speech_best_model.pth'\n",
        "torch.save(best_model_state, model_save_path)\n",
        "print(f\"Best F1 Macro Score: {best_f1_macro}\")\n",
        "print(f\"Best model saved to {model_save_path}\")\n",
        "\n",
        "tokenizer_save_path = 'content/drive/MyDrive/pittsburgh-annotation/hate_speech_tokenizer'\n",
        "tokenizer.save_pretrained(tokenizer_save_path)\n",
        "print(f\"Tokenizer saved to {tokenizer_save_path}\")\n",
        "\n",
        "plt.figure(figsize=(10, 6))\n",
        "plt.plot(range(1, num_epochs+1), epoch_losses, marker='o', color='blue')\n",
        "plt.title(\"Training Loss Per Epoch\")\n",
        "plt.xlabel(\"Epoch\")\n",
        "plt.ylabel(\"Loss\")\n",
        "plt.xticks(range(1, num_epochs+1))\n",
        "plt.grid(True)\n",
        "plt.show()\n"
      ],
      "metadata": {
        "id": "PCWyfhSzIlOP",
        "colab": {
          "base_uri": "https://localhost:8080/",
          "height": 824
        },
        "outputId": "b3098dc0-6c0f-49b7-eb37-d6d16b807a47"
      },
      "execution_count": 6,
      "outputs": [
        {
          "output_type": "stream",
          "name": "stderr",
          "text": [
            "/usr/local/lib/python3.10/dist-packages/huggingface_hub/utils/_token.py:88: UserWarning: \n",
            "The secret `HF_TOKEN` does not exist in your Colab secrets.\n",
            "To authenticate with the Hugging Face Hub, create a token in your settings tab (https://huggingface.co/settings/tokens), set it as secret in your Google Colab and restart your session.\n",
            "You will be able to reuse this secret in all of your notebooks.\n",
            "Please note that authentication is recommended but still optional to access public models or datasets.\n",
            "  warnings.warn(\n",
            "Some weights of BertForSequenceClassification were not initialized from the model checkpoint at dbmdz/bert-base-turkish-128k-cased and are newly initialized: ['classifier.bias', 'classifier.weight']\n",
            "You should probably TRAIN this model on a down-stream task to be able to use it for predictions and inference.\n"
          ]
        },
        {
          "output_type": "stream",
          "name": "stdout",
          "text": [
            "Starting training...\n",
            "Epoch 1/3 - Loss: 0.45933875042253625, Precision: 0.8761018168735384, Recall: 0.8541243224932249, F1 Macro: 0.8517786561264822, MCC: 0.7298953379459626\n",
            "Epoch 2/3 - Loss: 0.20615780867725433, Precision: 0.939799331103679, Recall: 0.9390969802555169, F1 Macro: 0.9391039121764944, MCC: 0.8788960307249581\n",
            "Epoch 3/3 - Loss: 0.11674320799467747, Precision: 0.9609034722729153, Recall: 0.9583272841656988, F1 Macro: 0.9582051219925858, MCC: 0.9192271464864072\n",
            "Best F1 Macro Score: 0.9582051219925858\n",
            "Best model saved to /content/drive/MyDrive/pittsburgh-annotation/hate_speech_best_model.pth\n",
            "Tokenizer saved to content/drive/MyDrive/pittsburgh-annotation/hate_speech_tokenizer\n"
          ]
        },
        {
          "output_type": "display_data",
          "data": {
            "text/plain": [
              "<Figure size 1000x600 with 1 Axes>"
            ],
            "image/png": "[encoded data removed]"
          },
          "metadata": {}
        }
      ]
    },
    {
      "cell_type": "code",
      "source": [
        "import pandas as pd\n",
        "import torch\n",
        "from transformers import AutoModelForSequenceClassification, AutoTokenizer\n",
        "from torch.utils.data import DataLoader, Dataset\n",
        "\n",
        "\n",
        "model_path = '/content/drive/MyDrive/pittsburgh-annotation/hate_speech_best_model.pth'\n",
        "tokenizer_path = 'dbmdz/bert-base-turkish-128k-cased'\n",
        "model = AutoModelForSequenceClassification.from_pretrained(pretrained_model, num_labels=1)\n",
        "model.load_state_dict(torch.load(model_path, map_location=torch.device('cpu')))\n",
        "model.to(device)\n",
        "model.eval()\n",
        "\n",
        "tokenizer = AutoTokenizer.from_pretrained(tokenizer_path)\n",
        "\n",
        "\n",
        "df = pd.read_json(\"/content/drive/MyDrive/pittsburgh-annotation/test.json\",orient=\"records\",lines=True)\n",
        "\n",
        "\n",
        "class CSVTextDataset(Dataset):\n",
        "    def __init__(self, texts, tokenizer, max_length=max_seq_length):\n",
        "        self.texts = texts\n",
        "        self.tokenizer = tokenizer\n",
        "        self.max_length = max_length\n",
        "\n",
        "    def __len__(self):\n",
        "        return len(self.texts)\n",
        "\n",
        "    def __getitem__(self, idx):\n",
        "        text = self.texts[idx]\n",
        "        encoded = self.tokenizer.encode_plus(text, add_special_tokens=True, max_length=self.max_length, padding='max_length', return_attention_mask=True, truncation=True)\n",
        "        return torch.tensor(encoded['input_ids']).to(device), torch.tensor(encoded['attention_mask']).to(device)\n",
        "\n",
        "texts = df['text'].tolist()\n",
        "csv_dataset = CSVTextDataset(texts, tokenizer)\n",
        "csv_loader = DataLoader(csv_dataset, batch_size=batch_size)\n",
        "\n",
        "def predict(model, data_loader):\n",
        "    model.eval()\n",
        "    predictions = []\n",
        "    with torch.no_grad():\n",
        "        for input_ids, attention_mask in data_loader:\n",
        "            outputs = model(input_ids, attention_mask=attention_mask)\n",
        "            probs = torch.sigmoid(outputs.logits).squeeze()\n",
        "            preds = (probs > 0.5).long().cpu().numpy()\n",
        "            predictions.extend(preds)\n",
        "    return predictions\n",
        "\n",
        "\n",
        "predictions = predict(model, csv_loader)\n",
        "df['hate_speech_label'] = predictions\n",
        "\n",
        "\n",
        "output_file_path = \"/content/drive/MyDrive/pittsburgh-annotation/test_predicted.json\"\n",
        "\n",
        "df.to_json(output_file_path,orient=\"records\",lines=True)\n"
      ],
      "metadata": {
        "id": "ewrpyRgM5osw",
        "colab": {
          "base_uri": "https://localhost:8080/"
        },
        "outputId": "a4b1a5ea-f827-4c19-e754-4410a6a19281"
      },
      "execution_count": 7,
      "outputs": [
        {
          "output_type": "stream",
          "name": "stderr",
          "text": [
            "Some weights of BertForSequenceClassification were not initialized from the model checkpoint at dbmdz/bert-base-turkish-128k-cased and are newly initialized: ['classifier.bias', 'classifier.weight']\n",
            "You should probably TRAIN this model on a down-stream task to be able to use it for predictions and inference.\n"
          ]
        }
      ]
    },
    {
      "cell_type": "markdown",
      "source": [
        "# Test Data Statistics"
      ],
      "metadata": {
        "id": "LPUyJIt3LqM4"
      }
    },
    {
      "cell_type": "code",
      "source": [
        "df = pd.read_json(\"/content/drive/MyDrive/pittsburgh-annotation/test_predicted.json\",orient=\"records\",lines=True)"
      ],
      "metadata": {
        "id": "LfcY7SU-e-33"
      },
      "execution_count": 8,
      "outputs": []
    },
    {
      "cell_type": "code",
      "source": [
        "match_percentage = (df['hate_speech_label'] == df['label']).mean() * 100\n",
        "print(f\"The match percentage is {match_percentage:.2f}%\")"
      ],
      "metadata": {
        "colab": {
          "base_uri": "https://localhost:8080/"
        },
        "id": "oMvDx93mCnux",
        "outputId": "8d5e7492-ed5d-4f21-9a69-fc3233539097"
      },
      "execution_count": 10,
      "outputs": [
        {
          "output_type": "stream",
          "name": "stdout",
          "text": [
            "The match percentage is 96.26%\n"
          ]
        }
      ]
    },
    {
      "cell_type": "code",
      "source": [
        "import pandas as pd\n",
        "from sklearn.metrics import accuracy_score, precision_score, recall_score, f1_score, confusion_matrix\n",
        "\n",
        "df = df.dropna(subset=['hate_speech_label', 'label'])\n",
        "\n",
        "tn, fp, fn, tp = confusion_matrix(df['label'], df['hate_speech_label']).ravel()\n",
        "\n",
        "accuracy = accuracy_score(df['label'], df['hate_speech_label'])\n",
        "precision = precision_score(df['label'], df['hate_speech_label'])\n",
        "recall = recall_score(df['label'], df['hate_speech_label'])\n",
        "f1 = f1_score(df['label'], df['hate_speech_label'])\n",
        "\n",
        "print(f\"True Negatives: {tn}, False Positives: {fp}, False Negatives: {fn}, True Positives: {tp}\")\n",
        "print(f\"Accuracy: {accuracy:.2f}\")\n",
        "print(f\"Precision: {precision:.2f}\")\n",
        "print(f\"Recall: {recall:.2f}\")\n",
        "print(f\"F1 Score: {f1:.2f}\")"
      ],
      "metadata": {
        "colab": {
          "base_uri": "https://localhost:8080/"
        },
        "id": "DQ0GaAelIWw_",
        "outputId": "d506c39a-afba-411d-ca87-67d1ccecfb59"
      },
      "execution_count": 11,
      "outputs": [
        {
          "output_type": "stream",
          "name": "stdout",
          "text": [
            "True Negatives: 539, False Positives: 35, False Negatives: 8, True Positives: 569\n",
            "Accuracy: 0.96\n",
            "Precision: 0.94\n",
            "Recall: 0.99\n",
            "F1 Score: 0.96\n"
          ]
        }
      ]
    },
    {
      "cell_type": "code",
      "source": [
        "import pandas as pd\n",
        "errors_df = df[df['label'] != df['hate_speech_label']]\n",
        "for index, row in errors_df[['text', 'label', 'hate_speech_label']].head().iterrows():\n",
        "    print(f\"Example {index + 1}:\")\n",
        "    print(f\"Text: {row['text']}\")\n",
        "    print(f\"Actual Label: {row['label']}\")\n",
        "    print(f\"Predicted Label: {row['hate_speech_label']}\\n\")\n"
      ],
      "metadata": {
        "colab": {
          "base_uri": "https://localhost:8080/"
        },
        "id": "DPm29G2Y8_gN",
        "outputId": "85960b8e-e597-4746-abb9-a8af147743f3"
      },
      "execution_count": 12,
      "outputs": [
        {
          "output_type": "stream",
          "name": "stdout",
          "text": [
            "Example 1:\n",
            "Text: Minin pkk yanlısı yarkadaş seçimden sonra görüşürüz\n",
            "Actual Label: 0\n",
            "Predicted Label: 1\n",
            "\n",
            "Example 25:\n",
            "Text: Terörist top Bursa\n",
            "Actual Label: 1\n",
            "Predicted Label: 0\n",
            "\n",
            "Example 30:\n",
            "Text: Faşistin daniskası sizlersiniz ırkçısin teröristlerle yiyip içen de senin gibiler.Daha 1000 yıl böyle gider.Siz adam olmazsiniz\n",
            "Actual Label: 0\n",
            "Predicted Label: 1\n",
            "\n",
            "Example 75:\n",
            "Text: HDP demek PKK demek\n",
            "Actual Label: 0\n",
            "Predicted Label: 1\n",
            "\n",
            "Example 81:\n",
            "Text: Terörist top Bursa\n",
            "Actual Label: 1\n",
            "Predicted Label: 0\n",
            "\n"
          ]
        }
      ]
    }
  ]
}
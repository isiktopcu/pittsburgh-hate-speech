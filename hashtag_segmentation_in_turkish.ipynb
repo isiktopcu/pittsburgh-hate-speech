{
  "nbformat": 4,
  "nbformat_minor": 0,
  "metadata": {
    "colab": {
      "provenance": [],
      "machine_shape": "hm",
      "gpuType": "A100"
    },
    "kernelspec": {
      "name": "python3",
      "display_name": "Python 3"
    },
    "language_info": {
      "name": "python"
    },
    "accelerator": "GPU"
  },
  "cells": [
    {
      "cell_type": "markdown",
      "source": [
        "## Hashtag segmentation can be very beneficial for limited data hate speech tasks."
      ],
      "metadata": {
        "id": "E2dyfU4bcxTN"
      }
    },
    {
      "cell_type": "code",
      "source": [
        "from google.colab import drive\n",
        "drive.mount('/content/drive')"
      ],
      "metadata": {
        "colab": {
          "base_uri": "https://localhost:8080/"
        },
        "id": "zQuY2GtrRVs1",
        "outputId": "5bd8eae3-6c81-4f71-81c7-9399a1310381"
      },
      "execution_count": 1,
      "outputs": [
        {
          "output_type": "stream",
          "name": "stdout",
          "text": [
            "Mounted at /content/drive\n"
          ]
        }
      ]
    },
    {
      "cell_type": "code",
      "source": [
        "path_to_gz_file = \"/content/drive/MyDrive/SETIMES/tr.txt.gz\" #https://opus.nlpl.eu/SETIMES/bg&tr/v2/SETIMES\n",
        "#output path for the unzipped content\n",
        "unzipped_file_path = \"/content/drive/MyDrive/SETIMES/tr.txt\"\n",
        "with gzip.open(path_to_gz_file, 'rt', encoding='utf-8') as gzipped_file:\n",
        "    with open(unzipped_file_path, 'w', encoding='utf-8') as unzipped_file:\n",
        "        for line in gzipped_file:\n",
        "            unzipped_file.write(line)\n",
        "with open(unzipped_file_path, 'r', encoding='utf-8') as file:\n",
        "    content = file.read()\n",
        "print(content[:1000])"
      ],
      "metadata": {
        "colab": {
          "base_uri": "https://localhost:8080/"
        },
        "id": "di6Vb_N1WeaI",
        "outputId": "d7b18b3a-8054-43cb-9bbf-9fd9ea32373f"
      },
      "execution_count": 9,
      "outputs": [
        {
          "output_type": "stream",
          "name": "stdout",
          "text": [
            "Hırvat yerel seçimleri ikinci tura kaldı\n",
            "Sonuçlar, başta büyük şehirler olmak üzere açık farkla bir zafer elde edilmediğini gösterdi.\n",
            "Ve seçim gözlemcileri seçim günü sandık merkezlerinde kampanya yasağının delindiğini bildirdiler.\n",
            "Southeast European Times için Zagreb'den Natasa Radiç'in haberi -- 21/05/09\n",
            "Hırvatlar 17 Mayıs Pazar günü yerel ve bölgesel seçimler için sandık başına gittiler. [Getty Images]\n",
            "17 Mayıs Pazar günkü yerel seçimlerde sandıkların kapanmasından sonra, ilk sonuçlar büyük şehirler arasında sadece Rijeka'da seçmenlerin belediye başkanlarını ilk turda seçtiler.\n",
            "Hırvatistan'ın diğer şehirlerinde hiçbir aday salt zafer elde edemedi.\n",
            "Toplam 1,9 milyon oy kullanıldı.\n",
            "Hırvatistan'ın 1991 yılındaki bağımsızlığından bu yana ilk defa seçmenler 21 eyalet meclisinin 866 üyesi, 126 il ve ilçe meclisinin 2 bin 206 üyesi ve 427 belediye meclisinin 5 bin 343 üyesini doğrudan oyla seçtiler.\n",
            "Seçimlerde toplam 46 bin 325 aday yarıştı.\n",
            "İlk resmi sonuçlar, iktidardaki Hırvat Demokrat \n"
          ]
        }
      ]
    },
    {
      "cell_type": "code",
      "source": [
        "from nltk.tokenize import RegexpTokenizer\n",
        "tokenizer = RegexpTokenizer(r'\\w+')\n",
        "tokens = tokenizer.tokenize(content)\n",
        "lowercase_tokens = [token.lower() for token in tokens]\n",
        "len(lowercase_tokens)"
      ],
      "metadata": {
        "colab": {
          "base_uri": "https://localhost:8080/"
        },
        "id": "3Xdq9IroW1E3",
        "outputId": "c0313761-741f-4ebb-af0d-0c1589878469"
      },
      "execution_count": 10,
      "outputs": [
        {
          "output_type": "execute_result",
          "data": {
            "text/plain": [
              "33144361"
            ]
          },
          "metadata": {},
          "execution_count": 10
        }
      ]
    },
    {
      "cell_type": "code",
      "source": [
        "import nltk\n",
        "from nltk.probability import FreqDist\n",
        "nltk.download('punkt')\n",
        "freq_dist = FreqDist(lowercase_tokens)\n",
        "freq_dist"
      ],
      "metadata": {
        "colab": {
          "base_uri": "https://localhost:8080/"
        },
        "id": "-TsexmGrXPir",
        "outputId": "66b21704-f418-4c48-d7ad-c54a75cd6875"
      },
      "execution_count": 11,
      "outputs": [
        {
          "output_type": "stream",
          "name": "stderr",
          "text": [
            "[nltk_data] Downloading package punkt to /root/nltk_data...\n",
            "[nltk_data]   Unzipping tokenizers/punkt.zip.\n"
          ]
        },
        {
          "output_type": "execute_result",
          "data": {
            "text/plain": [
              "FreqDist({'ve': 856523, 'bir': 671742, 'da': 306073, 'bu': 274445, 'için': 238548, 'de': 231744, 'nin': 156881, 'ab': 150788, 'nın': 142821, 'ile': 128895, ...})"
            ]
          },
          "metadata": {},
          "execution_count": 11
        }
      ]
    },
    {
      "cell_type": "code",
      "source": [
        "words_by_frequency= sorted(freq_dist,key= freq_dist.get,reverse=True)\n",
        "words_by_frequency[:10]"
      ],
      "metadata": {
        "colab": {
          "base_uri": "https://localhost:8080/"
        },
        "id": "mLC-arPfYSVA",
        "outputId": "97058f13-5002-4141-ca56-faa47ead30a6"
      },
      "execution_count": 13,
      "outputs": [
        {
          "output_type": "execute_result",
          "data": {
            "text/plain": [
              "['ve', 'bir', 'da', 'bu', 'için', 'de', 'nin', 'ab', 'nın', 'ile']"
            ]
          },
          "metadata": {},
          "execution_count": 13
        }
      ]
    },
    {
      "cell_type": "code",
      "source": [
        "from math import log\n",
        "\n",
        "wordcost = dict((word, log((rank+1)*log(len(freq_dist)))) for rank, word in enumerate(sorted(freq_dist, key=freq_dist.get, reverse=True)))\n",
        "maxword = max(len(word) for word in freq_dist)"
      ],
      "metadata": {
        "id": "l1nCLQi3YkuT"
      },
      "execution_count": 15,
      "outputs": []
    },
    {
      "cell_type": "code",
      "source": [
        "import re\n",
        "def infer_spaces(s):\n",
        "    \"\"\"Infers the location of spaces in a Turkish string without spaces.\"\"\"\n",
        "    s = re.sub(r'[^a-zçöşüğı]', '', s.lower())\n",
        "\n",
        "    def best_match(i):\n",
        "        candidates = enumerate(reversed(cost[max(0, i-maxword):i]))\n",
        "        return min((c + wordcost.get(s[i-k-1:i], float('inf')), k+1) for k,c in candidates)\n",
        "\n",
        "    cost = [0]\n",
        "    for i in range(1, len(s)+1):\n",
        "        c, k = best_match(i)\n",
        "        cost.append(c)\n",
        "\n",
        "    out = []\n",
        "    i = len(s)\n",
        "    while i > 0:\n",
        "        c, k = best_match(i)\n",
        "        assert c == cost[i]\n",
        "        out.append(s[i-k:i])\n",
        "        i -= k\n",
        "\n",
        "    return \" \".join(reversed(out))"
      ],
      "metadata": {
        "id": "1-vLloUVZGhY"
      },
      "execution_count": 20,
      "outputs": []
    },
    {
      "cell_type": "code",
      "source": [
        "hashtag = \"#kudüsfilistininbaşkentidir\"\n",
        "print(infer_spaces(hashtag))"
      ],
      "metadata": {
        "colab": {
          "base_uri": "https://localhost:8080/"
        },
        "id": "_SmQn-mvZRbz",
        "outputId": "9410bae1-dd7c-4f1e-c999-bb62250ed26d"
      },
      "execution_count": 24,
      "outputs": [
        {
          "output_type": "stream",
          "name": "stdout",
          "text": [
            "kudüs filistin in başkentidir\n"
          ]
        }
      ]
    }
  ]
}
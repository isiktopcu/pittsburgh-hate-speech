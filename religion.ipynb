{
  "nbformat": 4,
  "nbformat_minor": 0,
  "metadata": {
    "colab": {
      "provenance": [],
      "machine_shape": "hm",
      "gpuType": "A100"
    },
    "kernelspec": {
      "name": "python3",
      "display_name": "Python 3"
    },
    "language_info": {
      "name": "python"
    },
    "accelerator": "GPU"
  },
  "cells": [
    {
      "cell_type": "code",
      "execution_count": 17,
      "metadata": {
        "id": "BWCqcSef3VXt"
      },
      "outputs": [],
      "source": [
        "import pandas as pd\n",
        "import numpy as np\n"
      ]
    },
    {
      "cell_type": "code",
      "source": [
        "from google.colab import drive\n",
        "drive.mount('/content/drive')"
      ],
      "metadata": {
        "colab": {
          "base_uri": "https://localhost:8080/"
        },
        "id": "l5Imrn7F3dmn",
        "outputId": "d3335216-75c7-4e6b-d98d-f4d57e689691"
      },
      "execution_count": 18,
      "outputs": [
        {
          "output_type": "stream",
          "name": "stdout",
          "text": [
            "Drive already mounted at /content/drive; to attempt to forcibly remount, call drive.mount(\"/content/drive\", force_remount=True).\n"
          ]
        }
      ]
    },
    {
      "cell_type": "code",
      "source": [
        "\n",
        "offensive = pd.read_excel(\"/content/drive/MyDrive/pittsburgh-annotation-son-20240613/hate_speech_isik_llm_model_positive_preds_evaluation_offensive_hate_annotation_busra_kadir_merged_20240603_2nd.xlsx\")\n"
      ],
      "metadata": {
        "id": "E1jGQFUX4_Et"
      },
      "execution_count": 19,
      "outputs": []
    },
    {
      "cell_type": "code",
      "source": [
        "offensive.rename(columns = {'Hate \\nSpeech':\"hate-speech\"},inplace=True)"
      ],
      "metadata": {
        "id": "3rOmWD515rpg"
      },
      "execution_count": 20,
      "outputs": []
    },
    {
      "cell_type": "code",
      "source": [
        "import pandas as pd\n",
        "\n",
        "def resolve_hate_speech(group):\n",
        "    busra_value = group[group['Annotator'] == 'busra']['hate-speech'].values\n",
        "    kadir_value = group[group['Annotator'] == 'kadir']['hate-speech'].values\n",
        "    final_value = group[group['Annotator'] == 'final']['hate-speech'].values\n",
        "\n",
        "    if len(busra_value) > 0 and len(kadir_value) > 0:\n",
        "        busra_value = busra_value[0]\n",
        "        kadir_value = kadir_value[0]\n",
        "        if busra_value == kadir_value:\n",
        "            return busra_value\n",
        "        elif len(final_value) > 0:\n",
        "            return final_value[0]\n",
        "        else:\n",
        "            return None\n",
        "    else:\n",
        "        return None\n",
        "\n",
        "grouped = offensive.groupby('text')\n",
        "resolved_values = grouped.apply(resolve_hate_speech)\n",
        "offensive['Resolved_Hate_Speech'] = offensive['text'].map(resolved_values).astype('Int64')\n",
        "offensive_final = offensive.drop_duplicates(subset='text', keep='first')\n",
        "offensive_final = offensive_final.reset_index(drop=True)\n",
        "offensive_final[\"Resolved_Hate_Speech\"].astype(str)\n",
        "print(offensive_final)"
      ],
      "metadata": {
        "colab": {
          "base_uri": "https://localhost:8080/"
        },
        "id": "F2JxU5L734IU",
        "outputId": "5bdab620-cdba-4868-a718-075d59dbfcb9"
      },
      "execution_count": 21,
      "outputs": [
        {
          "output_type": "stream",
          "name": "stdout",
          "text": [
            "     Annotator      #                                               text  \\\n",
            "0        busra  314.0  @meraldanis @Alone_36_ Sen o kadar vatansevers...   \n",
            "1        busra  316.0  @meraldanis Erzurum'da kaza geçirmiş. Ne yazık...   \n",
            "2        busra  321.0  @gulderenvarli Emekçi kürt halkın verdiği verg...   \n",
            "3        busra  324.0  @meraldanis Bunlari bebek katili savunan diyor...   \n",
            "4        busra  328.0  @meraldanis Dağdaki ler aç mı ?kaldı kurşunu b...   \n",
            "...        ...    ...                                                ...   \n",
            "1076       NaN    NaN                                              agree   \n",
            "1077       NaN    NaN                                           disagree   \n",
            "1078       NaN    NaN                                          agree/dis   \n",
            "1079       NaN    NaN                                              total   \n",
            "1080       NaN    NaN                                           subtotal   \n",
            "\n",
            "      Dis\\nNeutral  Offense \\nNeutral  dis_O_ Relevant  Offense \\nRelevant  \\\n",
            "0              NaN                0.0              NaN                 0.0   \n",
            "1              NaN                0.0              NaN                 1.0   \n",
            "2              NaN                0.0              NaN                 0.0   \n",
            "3              NaN                0.0              NaN                 1.0   \n",
            "4              NaN                0.0              NaN                 1.0   \n",
            "...            ...                ...              ...                 ...   \n",
            "1076     35.000000                NaN       629.000000                 NaN   \n",
            "1077    136.000000                NaN       317.000000                 NaN   \n",
            "1078     25.735294                NaN       198.422713                 NaN   \n",
            "1079           NaN              205.0              NaN              1575.0   \n",
            "1080           NaN                0.0              NaN                 0.0   \n",
            "\n",
            "      Dis_o_Physical harm  Offense Physical Harm Threat  dis_o_insult_prof  \\\n",
            "0                     NaN                           0.0                NaN   \n",
            "1                     NaN                           1.0                NaN   \n",
            "2                     NaN                           0.0                NaN   \n",
            "3                     NaN                           0.0                NaN   \n",
            "4                     NaN                           1.0                NaN   \n",
            "...                   ...                           ...                ...   \n",
            "1076                 66.0                           NaN         173.000000   \n",
            "1077                 60.0                           NaN          96.000000   \n",
            "1078                110.0                           NaN         180.208333   \n",
            "1079                  NaN                         192.0                NaN   \n",
            "1080                  NaN                           0.0                NaN   \n",
            "\n",
            "      ...   dis_H_eth  Hate \\nEthnicity  dis_H_rel  Hate  \\nReligion  \\\n",
            "0     ...         NaN               1.0        NaN               0.0   \n",
            "1     ...         NaN               1.0        NaN               0.0   \n",
            "2     ...         NaN               0.0        NaN               1.0   \n",
            "3     ...         NaN               1.0        NaN               0.0   \n",
            "4     ...         NaN               1.0        NaN               0.0   \n",
            "...   ...         ...               ...        ...               ...   \n",
            "1076  ...  302.000000               NaN  16.000000               NaN   \n",
            "1077  ...  283.000000               NaN  27.000000               NaN   \n",
            "1078  ...  106.713781               NaN  59.259259               NaN   \n",
            "1079  ...         NaN            1104.0        NaN              74.0   \n",
            "1080  ...         NaN             215.0        NaN              15.0   \n",
            "\n",
            "      Dis_H_Gen  Hate \\nGender  Dis_H_other  Hate \\nOther  comment  \\\n",
            "0           NaN            1.0          NaN           0.0      NaN   \n",
            "1           NaN            0.0          NaN           0.0      NaN   \n",
            "2           NaN            0.0          NaN           0.0      NaN   \n",
            "3           NaN            0.0          NaN           0.0      NaN   \n",
            "4           NaN            0.0          NaN           0.0      NaN   \n",
            "...         ...            ...          ...           ...      ...   \n",
            "1076      28.00            NaN          0.0           NaN      NaN   \n",
            "1077      64.00            NaN         43.0           NaN      NaN   \n",
            "1078      43.75            NaN          0.0           NaN      NaN   \n",
            "1079        NaN          155.0          NaN          54.0      NaN   \n",
            "1080        NaN           35.0          NaN          11.0      NaN   \n",
            "\n",
            "      Resolved_Hate_Speech  \n",
            "0                        1  \n",
            "1                        1  \n",
            "2                        1  \n",
            "3                        1  \n",
            "4                        1  \n",
            "...                    ...  \n",
            "1076                  <NA>  \n",
            "1077                  <NA>  \n",
            "1078                  <NA>  \n",
            "1079                  <NA>  \n",
            "1080                  <NA>  \n",
            "\n",
            "[1081 rows x 29 columns]\n"
          ]
        }
      ]
    },
    {
      "cell_type": "code",
      "source": [
        "offensive_final[\"Resolved_Hate_Speech\"].value_counts()"
      ],
      "metadata": {
        "colab": {
          "base_uri": "https://localhost:8080/"
        },
        "id": "hk5dOWaI42ik",
        "outputId": "94629769-91c4-48b8-f33c-d69e3ce6191b"
      },
      "execution_count": 22,
      "outputs": [
        {
          "output_type": "execute_result",
          "data": {
            "text/plain": [
              "Resolved_Hate_Speech\n",
              "1    612\n",
              "0    463\n",
              "Name: count, dtype: Int64"
            ]
          },
          "metadata": {},
          "execution_count": 22
        }
      ]
    },
    {
      "cell_type": "code",
      "source": [
        "import pandas as pd\n",
        "\n",
        "# Define the function to resolve values for each annotator\n",
        "def resolve_annotation(group, column_name):\n",
        "    busra_value = group[group['Annotator'] == 'busra'][column_name].values\n",
        "    kadir_value = group[group['Annotator'] == 'kadir'][column_name].values\n",
        "    final_value = group[group['Annotator'] == 'final'][column_name].values\n",
        "\n",
        "    if len(busra_value) > 0 and len(kadir_value) > 0:\n",
        "        busra_value = busra_value[0]\n",
        "        kadir_value = kadir_value[0]\n",
        "        if busra_value == kadir_value:\n",
        "            return busra_value\n",
        "        elif len(final_value) > 0:\n",
        "            return final_value[0]\n",
        "        else:\n",
        "            return None\n",
        "    else:\n",
        "        return None\n",
        "\n",
        "# Read the data\n",
        "offensive = pd.read_excel('/content/drive/MyDrive/pittsburgh-annotation-son-20240613/hate_speech_isik_llm_model_positive_preds_evaluation_offensive_hate_annotation_busra_kadir_merged_20240603_2nd.xlsx')\n",
        "\n",
        "# List of columns to resolve\n",
        "columns_to_resolve = ['Hate \\nSpeech', 'Hate \\nEthnicity', 'Hate  \\nReligion', 'Hate \\nGender']\n",
        "\n",
        "# Resolve each column and add a new column for the resolved value\n",
        "for column in columns_to_resolve:\n",
        "    grouped = offensive.groupby('text')\n",
        "    resolved_values = grouped.apply(lambda group: resolve_annotation(group, column))\n",
        "    new_column_name = 'Resolved_' + column.replace(\" \\n\", \"_\").replace(\" \", \"_\")\n",
        "    offensive[new_column_name] = offensive['text'].map(resolved_values).astype('Int64')\n",
        "\n",
        "# Filter the DataFrame to only include rows where 'Resolved_Hate_Speech' is 1\n",
        "offensive_final = offensive[offensive['Resolved_Hate_Speech'] == 1]\n",
        "\n",
        "# Drop duplicates and reset index\n",
        "offensive_final = offensive_final.drop_duplicates(subset='text', keep='first')\n",
        "offensive_final = offensive_final.reset_index(drop=True)\n",
        "\n",
        "# Select relevant columns\n",
        "resolved_columns = ['Resolved_' + column.replace(\" \\n\", \"_\").replace(\" \", \"_\") for column in columns_to_resolve]\n",
        "offensive_final = offensive_final[['text'] + resolved_columns]\n",
        "\n",
        "# Print the final DataFrame\n",
        "print(offensive_final)\n",
        "\n",
        "# Save to an Excel file if needed\n",
        "offensive_final.to_excel('resolved_hate_speech.xlsx', index=False)\n"
      ],
      "metadata": {
        "colab": {
          "base_uri": "https://localhost:8080/"
        },
        "id": "gtWGDWGO34DA",
        "outputId": "e1023e79-3995-4fdd-e1d3-e594ff293393"
      },
      "execution_count": 23,
      "outputs": [
        {
          "output_type": "stream",
          "name": "stdout",
          "text": [
            "                                                  text  Resolved_Hate_Speech  \\\n",
            "0    @meraldanis @Alone_36_ Sen o kadar vatansevers...                     1   \n",
            "1    @meraldanis Erzurum'da kaza geçirmiş. Ne yazık...                     1   \n",
            "2    @gulderenvarli Emekçi kürt halkın verdiği verg...                     1   \n",
            "3    @meraldanis Bunlari bebek katili savunan diyor...                     1   \n",
            "4    @meraldanis Dağdaki ler aç mı ?kaldı kurşunu b...                     1   \n",
            "..                                                 ...                   ...   \n",
            "607  @sakiksirri Dantelli hevallerle mi tehdit ediy...                     1   \n",
            "608  @sakiksirri Gerçekten de Kürt sorunu yok, geli...                     1   \n",
            "609  @SamyeliSuhan @sakiksirri Ne kürtçüsü? Bunlar ...                     1   \n",
            "610     @sakiksirri Aleviden de ülü'l-emr olmaz ki. :)                     1   \n",
            "611  @KeremFirtina Seni kurtlar vadisinde oynatan O...                     1   \n",
            "\n",
            "     Resolved_Hate_Ethnicity  Resolved_Hate__Religion  Resolved_Hate_Gender  \n",
            "0                          1                        0                     1  \n",
            "1                          1                        0                     0  \n",
            "2                          0                        1                     0  \n",
            "3                          1                        0                     0  \n",
            "4                          1                        0                     0  \n",
            "..                       ...                      ...                   ...  \n",
            "607                        0                        0                     1  \n",
            "608                        1                        0                     0  \n",
            "609                        1                        0                     0  \n",
            "610                        0                        0                     0  \n",
            "611                        1                        0                     0  \n",
            "\n",
            "[612 rows x 5 columns]\n"
          ]
        }
      ]
    },
    {
      "cell_type": "code",
      "source": [
        "offensive_final[\"Resolved_Hate__Religion\"].value_counts()"
      ],
      "metadata": {
        "colab": {
          "base_uri": "https://localhost:8080/"
        },
        "id": "FqXDUbU133-R",
        "outputId": "0189b869-c86f-42d1-d4bf-3935a5ce4c25"
      },
      "execution_count": 25,
      "outputs": [
        {
          "output_type": "execute_result",
          "data": {
            "text/plain": [
              "Resolved_Hate__Religion\n",
              "0    584\n",
              "1     27\n",
              "Name: count, dtype: Int64"
            ]
          },
          "metadata": {},
          "execution_count": 25
        }
      ]
    },
    {
      "cell_type": "code",
      "source": [
        "# Print the value counts for each of the resolved columns\n",
        "for column in resolved_columns:\n",
        "    print(f\"Value counts for {column}:\")\n",
        "    print(offensive_final[column].value_counts())\n",
        "    print(\"\\n\")\n"
      ],
      "metadata": {
        "colab": {
          "base_uri": "https://localhost:8080/"
        },
        "id": "fClNB9oj338U",
        "outputId": "db9f3067-9085-4a99-b29d-8289deb3131c"
      },
      "execution_count": 26,
      "outputs": [
        {
          "output_type": "stream",
          "name": "stdout",
          "text": [
            "Value counts for Resolved_Hate_Speech:\n",
            "Resolved_Hate_Speech\n",
            "1    612\n",
            "Name: count, dtype: Int64\n",
            "\n",
            "\n",
            "Value counts for Resolved_Hate_Ethnicity:\n",
            "Resolved_Hate_Ethnicity\n",
            "1    517\n",
            "0     91\n",
            "Name: count, dtype: Int64\n",
            "\n",
            "\n",
            "Value counts for Resolved_Hate__Religion:\n",
            "Resolved_Hate__Religion\n",
            "0    584\n",
            "1     27\n",
            "Name: count, dtype: Int64\n",
            "\n",
            "\n",
            "Value counts for Resolved_Hate_Gender:\n",
            "Resolved_Hate_Gender\n",
            "0    550\n",
            "1     62\n",
            "Name: count, dtype: Int64\n",
            "\n",
            "\n"
          ]
        }
      ]
    },
    {
      "cell_type": "code",
      "source": [
        "offensive_final.dtypes"
      ],
      "metadata": {
        "colab": {
          "base_uri": "https://localhost:8080/"
        },
        "id": "YAdP3oRk8zHP",
        "outputId": "c9042a41-a0f8-4e58-8f7f-ef77b37da2f6"
      },
      "execution_count": 29,
      "outputs": [
        {
          "output_type": "execute_result",
          "data": {
            "text/plain": [
              "text                       object\n",
              "Resolved_Hate_Speech        Int64\n",
              "Resolved_Hate_Ethnicity     Int64\n",
              "Resolved_Hate__Religion     Int64\n",
              "Resolved_Hate_Gender        Int64\n",
              "dtype: object"
            ]
          },
          "metadata": {},
          "execution_count": 29
        }
      ]
    },
    {
      "cell_type": "code",
      "source": [
        "import pandas as pd\n",
        "\n",
        "# Assuming your DataFrame is named 'offensive_final'\n",
        "# Load your DataFrame (replace this with your actual DataFrame loading code)\n",
        "# offensive_final = pd.read_csv('your_file.csv')\n",
        "\n",
        "# Convert all columns to str\n",
        "offensive_final = offensive_final.astype(str)\n",
        "\n",
        "# Verify the change\n",
        "print(offensive_final.dtypes)\n"
      ],
      "metadata": {
        "colab": {
          "base_uri": "https://localhost:8080/"
        },
        "id": "gL5cc2hB8xGA",
        "outputId": "27462301-8294-423c-a652-3f2b41dd8614"
      },
      "execution_count": 35,
      "outputs": [
        {
          "output_type": "stream",
          "name": "stdout",
          "text": [
            "text         object\n",
            "hate         object\n",
            "ethnicity    object\n",
            "religion     object\n",
            "gender       object\n",
            "dtype: object\n"
          ]
        }
      ]
    },
    {
      "cell_type": "code",
      "source": [
        "import pandas as pd\n",
        "\n",
        "# Assuming your DataFrame is named 'offensive_final'\n",
        "# Load your DataFrame (replace this with your actual DataFrame loading code)\n",
        "# offensive_final = pd.read_csv('your_file.csv')\n",
        "\n",
        "# Convert all columns to str if necessary\n",
        "# offensive_final = offensive_final.astype(str)\n",
        "\n",
        "# Rename the columns\n",
        "offensive_final.rename(columns={\n",
        "    'Resolved_Hate_Speech': 'hate',\n",
        "    'Resolved_Hate_Ethnicity': 'ethnicity',\n",
        "    'Resolved_Hate__Religion': 'religion',\n",
        "    'Resolved_Hate_Gender': 'gender'\n",
        "}, inplace=True)\n",
        "\n",
        "# Verify the change\n",
        "print(offensive_final.dtypes)\n",
        "print(offensive_final.head())\n"
      ],
      "metadata": {
        "colab": {
          "base_uri": "https://localhost:8080/"
        },
        "id": "FvdQ99T59eEV",
        "outputId": "c025cef3-a9e2-40b5-8b44-8506ab425156"
      },
      "execution_count": 33,
      "outputs": [
        {
          "output_type": "stream",
          "name": "stdout",
          "text": [
            "text         object\n",
            "hate         object\n",
            "ethnicity    object\n",
            "religion     object\n",
            "gender       object\n",
            "dtype: object\n",
            "                                                text hate ethnicity religion  \\\n",
            "0  @meraldanis @Alone_36_ Sen o kadar vatansevers...    1         1        0   \n",
            "1  @meraldanis Erzurum'da kaza geçirmiş. Ne yazık...    1         1        0   \n",
            "2  @gulderenvarli Emekçi kürt halkın verdiği verg...    1         0        1   \n",
            "3  @meraldanis Bunlari bebek katili savunan diyor...    1         1        0   \n",
            "4  @meraldanis Dağdaki ler aç mı ?kaldı kurşunu b...    1         1        0   \n",
            "\n",
            "  gender  \n",
            "0      1  \n",
            "1      0  \n",
            "2      0  \n",
            "3      0  \n",
            "4      0  \n"
          ]
        }
      ]
    },
    {
      "cell_type": "code",
      "source": [
        "offensive_final"
      ],
      "metadata": {
        "colab": {
          "base_uri": "https://localhost:8080/",
          "height": 424
        },
        "id": "ryQO4GczCBNh",
        "outputId": "42bc705a-4267-4721-d207-979144f8afd5"
      },
      "execution_count": 44,
      "outputs": [
        {
          "output_type": "execute_result",
          "data": {
            "text/plain": [
              "                                                  text hate ethnicity  \\\n",
              "0    @meraldanis @Alone_36_ Sen o kadar vatansevers...    1         1   \n",
              "1    @meraldanis Erzurum'da kaza geçirmiş. Ne yazık...    1         1   \n",
              "2    @gulderenvarli Emekçi kürt halkın verdiği verg...    1         0   \n",
              "3    @meraldanis Bunlari bebek katili savunan diyor...    1         1   \n",
              "4    @meraldanis Dağdaki ler aç mı ?kaldı kurşunu b...    1         1   \n",
              "..                                                 ...  ...       ...   \n",
              "607  @sakiksirri Dantelli hevallerle mi tehdit ediy...    1         0   \n",
              "608  @sakiksirri Gerçekten de Kürt sorunu yok, geli...    1         1   \n",
              "609  @SamyeliSuhan @sakiksirri Ne kürtçüsü? Bunlar ...    1         1   \n",
              "610     @sakiksirri Aleviden de ülü'l-emr olmaz ki. :)    1         0   \n",
              "611  @KeremFirtina Seni kurtlar vadisinde oynatan O...    1         1   \n",
              "\n",
              "    religion gender  \n",
              "0          0      1  \n",
              "1          0      0  \n",
              "2          1      0  \n",
              "3          0      0  \n",
              "4          0      0  \n",
              "..       ...    ...  \n",
              "607        0      1  \n",
              "608        0      0  \n",
              "609        0      0  \n",
              "610        0      0  \n",
              "611        0      0  \n",
              "\n",
              "[612 rows x 5 columns]"
            ],
            "text/html": [
              "\n",
              "  <div id=\"df-603ff79b-472d-4b4b-88b8-1478d4e12a2b\" class=\"colab-df-container\">\n",
              "    <div>\n",
              "<style scoped>\n",
              "    .dataframe tbody tr th:only-of-type {\n",
              "        vertical-align: middle;\n",
              "    }\n",
              "\n",
              "    .dataframe tbody tr th {\n",
              "        vertical-align: top;\n",
              "    }\n",
              "\n",
              "    .dataframe thead th {\n",
              "        text-align: right;\n",
              "    }\n",
              "</style>\n",
              "<table border=\"1\" class=\"dataframe\">\n",
              "  <thead>\n",
              "    <tr style=\"text-align: right;\">\n",
              "      <th></th>\n",
              "      <th>text</th>\n",
              "      <th>hate</th>\n",
              "      <th>ethnicity</th>\n",
              "      <th>religion</th>\n",
              "      <th>gender</th>\n",
              "    </tr>\n",
              "  </thead>\n",
              "  <tbody>\n",
              "    <tr>\n",
              "      <th>0</th>\n",
              "      <td>@meraldanis @Alone_36_ Sen o kadar vatansevers...</td>\n",
              "      <td>1</td>\n",
              "      <td>1</td>\n",
              "      <td>0</td>\n",
              "      <td>1</td>\n",
              "    </tr>\n",
              "    <tr>\n",
              "      <th>1</th>\n",
              "      <td>@meraldanis Erzurum'da kaza geçirmiş. Ne yazık...</td>\n",
              "      <td>1</td>\n",
              "      <td>1</td>\n",
              "      <td>0</td>\n",
              "      <td>0</td>\n",
              "    </tr>\n",
              "    <tr>\n",
              "      <th>2</th>\n",
              "      <td>@gulderenvarli Emekçi kürt halkın verdiği verg...</td>\n",
              "      <td>1</td>\n",
              "      <td>0</td>\n",
              "      <td>1</td>\n",
              "      <td>0</td>\n",
              "    </tr>\n",
              "    <tr>\n",
              "      <th>3</th>\n",
              "      <td>@meraldanis Bunlari bebek katili savunan diyor...</td>\n",
              "      <td>1</td>\n",
              "      <td>1</td>\n",
              "      <td>0</td>\n",
              "      <td>0</td>\n",
              "    </tr>\n",
              "    <tr>\n",
              "      <th>4</th>\n",
              "      <td>@meraldanis Dağdaki ler aç mı ?kaldı kurşunu b...</td>\n",
              "      <td>1</td>\n",
              "      <td>1</td>\n",
              "      <td>0</td>\n",
              "      <td>0</td>\n",
              "    </tr>\n",
              "    <tr>\n",
              "      <th>...</th>\n",
              "      <td>...</td>\n",
              "      <td>...</td>\n",
              "      <td>...</td>\n",
              "      <td>...</td>\n",
              "      <td>...</td>\n",
              "    </tr>\n",
              "    <tr>\n",
              "      <th>607</th>\n",
              "      <td>@sakiksirri Dantelli hevallerle mi tehdit ediy...</td>\n",
              "      <td>1</td>\n",
              "      <td>0</td>\n",
              "      <td>0</td>\n",
              "      <td>1</td>\n",
              "    </tr>\n",
              "    <tr>\n",
              "      <th>608</th>\n",
              "      <td>@sakiksirri Gerçekten de Kürt sorunu yok, geli...</td>\n",
              "      <td>1</td>\n",
              "      <td>1</td>\n",
              "      <td>0</td>\n",
              "      <td>0</td>\n",
              "    </tr>\n",
              "    <tr>\n",
              "      <th>609</th>\n",
              "      <td>@SamyeliSuhan @sakiksirri Ne kürtçüsü? Bunlar ...</td>\n",
              "      <td>1</td>\n",
              "      <td>1</td>\n",
              "      <td>0</td>\n",
              "      <td>0</td>\n",
              "    </tr>\n",
              "    <tr>\n",
              "      <th>610</th>\n",
              "      <td>@sakiksirri Aleviden de ülü'l-emr olmaz ki. :)</td>\n",
              "      <td>1</td>\n",
              "      <td>0</td>\n",
              "      <td>0</td>\n",
              "      <td>0</td>\n",
              "    </tr>\n",
              "    <tr>\n",
              "      <th>611</th>\n",
              "      <td>@KeremFirtina Seni kurtlar vadisinde oynatan O...</td>\n",
              "      <td>1</td>\n",
              "      <td>1</td>\n",
              "      <td>0</td>\n",
              "      <td>0</td>\n",
              "    </tr>\n",
              "  </tbody>\n",
              "</table>\n",
              "<p>612 rows × 5 columns</p>\n",
              "</div>\n",
              "    <div class=\"colab-df-buttons\">\n",
              "\n",
              "  <div class=\"colab-df-container\">\n",
              "    <button class=\"colab-df-convert\" onclick=\"convertToInteractive('df-603ff79b-472d-4b4b-88b8-1478d4e12a2b')\"\n",
              "            title=\"Convert this dataframe to an interactive table.\"\n",
              "            style=\"display:none;\">\n",
              "\n",
              "  <svg xmlns=\"http://www.w3.org/2000/svg\" height=\"24px\" viewBox=\"0 -960 960 960\">\n",
              "    <path d=\"M120-120v-720h720v720H120Zm60-500h600v-160H180v160Zm220 220h160v-160H400v160Zm0 220h160v-160H400v160ZM180-400h160v-160H180v160Zm440 0h160v-160H620v160ZM180-180h160v-160H180v160Zm440 0h160v-160H620v160Z\"/>\n",
              "  </svg>\n",
              "    </button>\n",
              "\n",
              "  <style>\n",
              "    .colab-df-container {\n",
              "      display:flex;\n",
              "      gap: 12px;\n",
              "    }\n",
              "\n",
              "    .colab-df-convert {\n",
              "      background-color: #E8F0FE;\n",
              "      border: none;\n",
              "      border-radius: 50%;\n",
              "      cursor: pointer;\n",
              "      display: none;\n",
              "      fill: #1967D2;\n",
              "      height: 32px;\n",
              "      padding: 0 0 0 0;\n",
              "      width: 32px;\n",
              "    }\n",
              "\n",
              "    .colab-df-convert:hover {\n",
              "      background-color: #E2EBFA;\n",
              "      box-shadow: 0px 1px 2px rgba(60, 64, 67, 0.3), 0px 1px 3px 1px rgba(60, 64, 67, 0.15);\n",
              "      fill: #174EA6;\n",
              "    }\n",
              "\n",
              "    .colab-df-buttons div {\n",
              "      margin-bottom: 4px;\n",
              "    }\n",
              "\n",
              "    [theme=dark] .colab-df-convert {\n",
              "      background-color: #3B4455;\n",
              "      fill: #D2E3FC;\n",
              "    }\n",
              "\n",
              "    [theme=dark] .colab-df-convert:hover {\n",
              "      background-color: #434B5C;\n",
              "      box-shadow: 0px 1px 3px 1px rgba(0, 0, 0, 0.15);\n",
              "      filter: drop-shadow(0px 1px 2px rgba(0, 0, 0, 0.3));\n",
              "      fill: #FFFFFF;\n",
              "    }\n",
              "  </style>\n",
              "\n",
              "    <script>\n",
              "      const buttonEl =\n",
              "        document.querySelector('#df-603ff79b-472d-4b4b-88b8-1478d4e12a2b button.colab-df-convert');\n",
              "      buttonEl.style.display =\n",
              "        google.colab.kernel.accessAllowed ? 'block' : 'none';\n",
              "\n",
              "      async function convertToInteractive(key) {\n",
              "        const element = document.querySelector('#df-603ff79b-472d-4b4b-88b8-1478d4e12a2b');\n",
              "        const dataTable =\n",
              "          await google.colab.kernel.invokeFunction('convertToInteractive',\n",
              "                                                    [key], {});\n",
              "        if (!dataTable) return;\n",
              "\n",
              "        const docLinkHtml = 'Like what you see? Visit the ' +\n",
              "          '<a target=\"_blank\" href=https://colab.research.google.com/notebooks/data_table.ipynb>data table notebook</a>'\n",
              "          + ' to learn more about interactive tables.';\n",
              "        element.innerHTML = '';\n",
              "        dataTable['output_type'] = 'display_data';\n",
              "        await google.colab.output.renderOutput(dataTable, element);\n",
              "        const docLink = document.createElement('div');\n",
              "        docLink.innerHTML = docLinkHtml;\n",
              "        element.appendChild(docLink);\n",
              "      }\n",
              "    </script>\n",
              "  </div>\n",
              "\n",
              "\n",
              "<div id=\"df-3e0b8805-aee6-4d7a-9d2b-3f364f0d7ac3\">\n",
              "  <button class=\"colab-df-quickchart\" onclick=\"quickchart('df-3e0b8805-aee6-4d7a-9d2b-3f364f0d7ac3')\"\n",
              "            title=\"Suggest charts\"\n",
              "            style=\"display:none;\">\n",
              "\n",
              "<svg xmlns=\"http://www.w3.org/2000/svg\" height=\"24px\"viewBox=\"0 0 24 24\"\n",
              "     width=\"24px\">\n",
              "    <g>\n",
              "        <path d=\"M19 3H5c-1.1 0-2 .9-2 2v14c0 1.1.9 2 2 2h14c1.1 0 2-.9 2-2V5c0-1.1-.9-2-2-2zM9 17H7v-7h2v7zm4 0h-2V7h2v10zm4 0h-2v-4h2v4z\"/>\n",
              "    </g>\n",
              "</svg>\n",
              "  </button>\n",
              "\n",
              "<style>\n",
              "  .colab-df-quickchart {\n",
              "      --bg-color: #E8F0FE;\n",
              "      --fill-color: #1967D2;\n",
              "      --hover-bg-color: #E2EBFA;\n",
              "      --hover-fill-color: #174EA6;\n",
              "      --disabled-fill-color: #AAA;\n",
              "      --disabled-bg-color: #DDD;\n",
              "  }\n",
              "\n",
              "  [theme=dark] .colab-df-quickchart {\n",
              "      --bg-color: #3B4455;\n",
              "      --fill-color: #D2E3FC;\n",
              "      --hover-bg-color: #434B5C;\n",
              "      --hover-fill-color: #FFFFFF;\n",
              "      --disabled-bg-color: #3B4455;\n",
              "      --disabled-fill-color: #666;\n",
              "  }\n",
              "\n",
              "  .colab-df-quickchart {\n",
              "    background-color: var(--bg-color);\n",
              "    border: none;\n",
              "    border-radius: 50%;\n",
              "    cursor: pointer;\n",
              "    display: none;\n",
              "    fill: var(--fill-color);\n",
              "    height: 32px;\n",
              "    padding: 0;\n",
              "    width: 32px;\n",
              "  }\n",
              "\n",
              "  .colab-df-quickchart:hover {\n",
              "    background-color: var(--hover-bg-color);\n",
              "    box-shadow: 0 1px 2px rgba(60, 64, 67, 0.3), 0 1px 3px 1px rgba(60, 64, 67, 0.15);\n",
              "    fill: var(--button-hover-fill-color);\n",
              "  }\n",
              "\n",
              "  .colab-df-quickchart-complete:disabled,\n",
              "  .colab-df-quickchart-complete:disabled:hover {\n",
              "    background-color: var(--disabled-bg-color);\n",
              "    fill: var(--disabled-fill-color);\n",
              "    box-shadow: none;\n",
              "  }\n",
              "\n",
              "  .colab-df-spinner {\n",
              "    border: 2px solid var(--fill-color);\n",
              "    border-color: transparent;\n",
              "    border-bottom-color: var(--fill-color);\n",
              "    animation:\n",
              "      spin 1s steps(1) infinite;\n",
              "  }\n",
              "\n",
              "  @keyframes spin {\n",
              "    0% {\n",
              "      border-color: transparent;\n",
              "      border-bottom-color: var(--fill-color);\n",
              "      border-left-color: var(--fill-color);\n",
              "    }\n",
              "    20% {\n",
              "      border-color: transparent;\n",
              "      border-left-color: var(--fill-color);\n",
              "      border-top-color: var(--fill-color);\n",
              "    }\n",
              "    30% {\n",
              "      border-color: transparent;\n",
              "      border-left-color: var(--fill-color);\n",
              "      border-top-color: var(--fill-color);\n",
              "      border-right-color: var(--fill-color);\n",
              "    }\n",
              "    40% {\n",
              "      border-color: transparent;\n",
              "      border-right-color: var(--fill-color);\n",
              "      border-top-color: var(--fill-color);\n",
              "    }\n",
              "    60% {\n",
              "      border-color: transparent;\n",
              "      border-right-color: var(--fill-color);\n",
              "    }\n",
              "    80% {\n",
              "      border-color: transparent;\n",
              "      border-right-color: var(--fill-color);\n",
              "      border-bottom-color: var(--fill-color);\n",
              "    }\n",
              "    90% {\n",
              "      border-color: transparent;\n",
              "      border-bottom-color: var(--fill-color);\n",
              "    }\n",
              "  }\n",
              "</style>\n",
              "\n",
              "  <script>\n",
              "    async function quickchart(key) {\n",
              "      const quickchartButtonEl =\n",
              "        document.querySelector('#' + key + ' button');\n",
              "      quickchartButtonEl.disabled = true;  // To prevent multiple clicks.\n",
              "      quickchartButtonEl.classList.add('colab-df-spinner');\n",
              "      try {\n",
              "        const charts = await google.colab.kernel.invokeFunction(\n",
              "            'suggestCharts', [key], {});\n",
              "      } catch (error) {\n",
              "        console.error('Error during call to suggestCharts:', error);\n",
              "      }\n",
              "      quickchartButtonEl.classList.remove('colab-df-spinner');\n",
              "      quickchartButtonEl.classList.add('colab-df-quickchart-complete');\n",
              "    }\n",
              "    (() => {\n",
              "      let quickchartButtonEl =\n",
              "        document.querySelector('#df-3e0b8805-aee6-4d7a-9d2b-3f364f0d7ac3 button');\n",
              "      quickchartButtonEl.style.display =\n",
              "        google.colab.kernel.accessAllowed ? 'block' : 'none';\n",
              "    })();\n",
              "  </script>\n",
              "</div>\n",
              "\n",
              "  <div id=\"id_5697dc96-0a16-461d-8b54-864d33d99c9e\">\n",
              "    <style>\n",
              "      .colab-df-generate {\n",
              "        background-color: #E8F0FE;\n",
              "        border: none;\n",
              "        border-radius: 50%;\n",
              "        cursor: pointer;\n",
              "        display: none;\n",
              "        fill: #1967D2;\n",
              "        height: 32px;\n",
              "        padding: 0 0 0 0;\n",
              "        width: 32px;\n",
              "      }\n",
              "\n",
              "      .colab-df-generate:hover {\n",
              "        background-color: #E2EBFA;\n",
              "        box-shadow: 0px 1px 2px rgba(60, 64, 67, 0.3), 0px 1px 3px 1px rgba(60, 64, 67, 0.15);\n",
              "        fill: #174EA6;\n",
              "      }\n",
              "\n",
              "      [theme=dark] .colab-df-generate {\n",
              "        background-color: #3B4455;\n",
              "        fill: #D2E3FC;\n",
              "      }\n",
              "\n",
              "      [theme=dark] .colab-df-generate:hover {\n",
              "        background-color: #434B5C;\n",
              "        box-shadow: 0px 1px 3px 1px rgba(0, 0, 0, 0.15);\n",
              "        filter: drop-shadow(0px 1px 2px rgba(0, 0, 0, 0.3));\n",
              "        fill: #FFFFFF;\n",
              "      }\n",
              "    </style>\n",
              "    <button class=\"colab-df-generate\" onclick=\"generateWithVariable('offensive_final')\"\n",
              "            title=\"Generate code using this dataframe.\"\n",
              "            style=\"display:none;\">\n",
              "\n",
              "  <svg xmlns=\"http://www.w3.org/2000/svg\" height=\"24px\"viewBox=\"0 0 24 24\"\n",
              "       width=\"24px\">\n",
              "    <path d=\"M7,19H8.4L18.45,9,17,7.55,7,17.6ZM5,21V16.75L18.45,3.32a2,2,0,0,1,2.83,0l1.4,1.43a1.91,1.91,0,0,1,.58,1.4,1.91,1.91,0,0,1-.58,1.4L9.25,21ZM18.45,9,17,7.55Zm-12,3A5.31,5.31,0,0,0,4.9,8.1,5.31,5.31,0,0,0,1,6.5,5.31,5.31,0,0,0,4.9,4.9,5.31,5.31,0,0,0,6.5,1,5.31,5.31,0,0,0,8.1,4.9,5.31,5.31,0,0,0,12,6.5,5.46,5.46,0,0,0,6.5,12Z\"/>\n",
              "  </svg>\n",
              "    </button>\n",
              "    <script>\n",
              "      (() => {\n",
              "      const buttonEl =\n",
              "        document.querySelector('#id_5697dc96-0a16-461d-8b54-864d33d99c9e button.colab-df-generate');\n",
              "      buttonEl.style.display =\n",
              "        google.colab.kernel.accessAllowed ? 'block' : 'none';\n",
              "\n",
              "      buttonEl.onclick = () => {\n",
              "        google.colab.notebook.generateWithVariable('offensive_final');\n",
              "      }\n",
              "      })();\n",
              "    </script>\n",
              "  </div>\n",
              "\n",
              "    </div>\n",
              "  </div>\n"
            ],
            "application/vnd.google.colaboratory.intrinsic+json": {
              "type": "dataframe",
              "variable_name": "offensive_final",
              "summary": "{\n  \"name\": \"offensive_final\",\n  \"rows\": 612,\n  \"fields\": [\n    {\n      \"column\": \"text\",\n      \"properties\": {\n        \"dtype\": \"string\",\n        \"num_unique_values\": 612,\n        \"samples\": [\n          \"@orhansaribalchp @TFF_Org Sizin gibi chp partisine ba\\u011fl\\u0131 bir milletvekilin PKK destek\\u00e7isi bir futbol tak\\u0131m\\u0131n\\u0131 nas\\u0131l savundu\\u011funu hala anlam\\u0131\\u015f de\\u011filim o y\\u00fczden tff ye soru sormas\\u0131 gereken ki\\u015fi \\u015fuandan itibaren siz de\\u011filsiniz art\\u0131k diye d\\u00fc\\u015f\\u00fcn\\u00fcyorum o twiti atmak yerine sessiz kalman\\u0131z daha adil olurdu.\",\n          \"@korayaydintr Vay apo bebek katilini de affedebilir diyecek kadar k\\u00fc\\u00e7\\u00fcl\\u00fcp zihniyetin iflas\\u0131 olamaz. Hepsi H\\u00fcda par zihniyetine b\\u00fcr\\u00fcnm\\u00fc\\u015f T\\u00fcrk d\\u00fc\\u015fmanlar\\u0131.\",\n          \"@MSTanrikulu B\\u0130N BETER OLSUNLAR....\\nBunlara verecek cevab\\u0131n var ise konu\\u015f, yok ise g\\u00f6lge etme. Bir Fenerbah\\u00e7eli olarak bursasporun sonuna kadar yan\\u0131nday\\u0131m bu konuda. S\\u0130ZE DE OY MOY YOK AMK. VEREN\\u0130 S\\u0130lKS\\u0130NLER !! CHPnin i\\u00e7ine s\\u0131zm\\u0131\\u015f VATAN HA\\u0130NLER\\u0130S\\u0130N\\u0130Z.  https://t.co/1x1vXDY3x1 https://t.co/Nam2tG0BeJ\"\n        ],\n        \"semantic_type\": \"\",\n        \"description\": \"\"\n      }\n    },\n    {\n      \"column\": \"hate\",\n      \"properties\": {\n        \"dtype\": \"category\",\n        \"num_unique_values\": 1,\n        \"samples\": [\n          \"1\"\n        ],\n        \"semantic_type\": \"\",\n        \"description\": \"\"\n      }\n    },\n    {\n      \"column\": \"ethnicity\",\n      \"properties\": {\n        \"dtype\": \"category\",\n        \"num_unique_values\": 3,\n        \"samples\": [\n          \"1\"\n        ],\n        \"semantic_type\": \"\",\n        \"description\": \"\"\n      }\n    },\n    {\n      \"column\": \"religion\",\n      \"properties\": {\n        \"dtype\": \"category\",\n        \"num_unique_values\": 3,\n        \"samples\": [\n          \"0\"\n        ],\n        \"semantic_type\": \"\",\n        \"description\": \"\"\n      }\n    },\n    {\n      \"column\": \"gender\",\n      \"properties\": {\n        \"dtype\": \"category\",\n        \"num_unique_values\": 2,\n        \"samples\": [\n          \"0\"\n        ],\n        \"semantic_type\": \"\",\n        \"description\": \"\"\n      }\n    }\n  ]\n}"
            }
          },
          "metadata": {},
          "execution_count": 44
        }
      ]
    },
    {
      "cell_type": "code",
      "source": [
        "import pandas as pd\n",
        "\n",
        "# Assuming 'offensive_final' is already loaded\n",
        "# Replace empty strings with actual pd.NA\n",
        "offensive_final = offensive_final.replace('', pd.NA)\n",
        "\n",
        "# List of columns to convert to integer type\n",
        "columns_to_convert = offensive_final.columns.difference(['text'])\n",
        "\n",
        "# Convert columns to nullable integer type\n",
        "for column in columns_to_convert:\n",
        "    offensive_final[column] = pd.to_numeric(offensive_final[column], errors='coerce').astype('Int64')\n",
        "\n",
        "# Drop rows where any column (except 'text') is pd.NA\n",
        "offensive_final = offensive_final.dropna(subset=columns_to_convert)\n",
        "\n",
        "# Verify the cleanup\n",
        "print(offensive_final.isna().sum())\n",
        "\n",
        "# Show the cleaned DataFrame\n",
        "print(offensive_final)\n"
      ],
      "metadata": {
        "colab": {
          "base_uri": "https://localhost:8080/"
        },
        "id": "pYwm5ftdCJVY",
        "outputId": "11d7b917-d3ef-4b0a-cb3b-331a2995a26e"
      },
      "execution_count": 47,
      "outputs": [
        {
          "output_type": "stream",
          "name": "stdout",
          "text": [
            "text         0\n",
            "hate         0\n",
            "ethnicity    0\n",
            "religion     0\n",
            "gender       0\n",
            "dtype: int64\n",
            "                                                  text  hate  ethnicity  \\\n",
            "0    @meraldanis @Alone_36_ Sen o kadar vatansevers...     1          1   \n",
            "1    @meraldanis Erzurum'da kaza geçirmiş. Ne yazık...     1          1   \n",
            "2    @gulderenvarli Emekçi kürt halkın verdiği verg...     1          0   \n",
            "3    @meraldanis Bunlari bebek katili savunan diyor...     1          1   \n",
            "4    @meraldanis Dağdaki ler aç mı ?kaldı kurşunu b...     1          1   \n",
            "..                                                 ...   ...        ...   \n",
            "607  @sakiksirri Dantelli hevallerle mi tehdit ediy...     1          0   \n",
            "608  @sakiksirri Gerçekten de Kürt sorunu yok, geli...     1          1   \n",
            "609  @SamyeliSuhan @sakiksirri Ne kürtçüsü? Bunlar ...     1          1   \n",
            "610     @sakiksirri Aleviden de ülü'l-emr olmaz ki. :)     1          0   \n",
            "611  @KeremFirtina Seni kurtlar vadisinde oynatan O...     1          1   \n",
            "\n",
            "     religion  gender  \n",
            "0           0       1  \n",
            "1           0       0  \n",
            "2           1       0  \n",
            "3           0       0  \n",
            "4           0       0  \n",
            "..        ...     ...  \n",
            "607         0       1  \n",
            "608         0       0  \n",
            "609         0       0  \n",
            "610         0       0  \n",
            "611         0       0  \n",
            "\n",
            "[607 rows x 5 columns]\n"
          ]
        }
      ]
    },
    {
      "cell_type": "code",
      "source": [
        "offensive_final = offensive_final.astype(str)"
      ],
      "metadata": {
        "id": "_w5ZIRSoCpJa"
      },
      "execution_count": 50,
      "outputs": []
    },
    {
      "cell_type": "code",
      "source": [
        "\n",
        "from sklearn.model_selection import train_test_split"
      ],
      "metadata": {
        "id": "KINOTBLS3350"
      },
      "execution_count": 51,
      "outputs": []
    },
    {
      "cell_type": "code",
      "source": [
        "train_df, test_df = train_test_split(offensive_final, test_size=0.2, random_state=42)"
      ],
      "metadata": {
        "id": "-AIbaP2q333e"
      },
      "execution_count": 52,
      "outputs": []
    },
    {
      "cell_type": "code",
      "source": [
        "train_df.to_json(\"/content/drive/MyDrive/pittsburgh-annotation/rge_train.json\",orient=\"records\",lines=True)"
      ],
      "metadata": {
        "id": "9wAcNvmI331D"
      },
      "execution_count": 53,
      "outputs": []
    },
    {
      "cell_type": "code",
      "source": [
        "offensive_final.to_json(\"/content/drive/MyDrive/pittsburgh-annotation/rge.json\",orient=\"records\",lines=True)"
      ],
      "metadata": {
        "id": "QMbRmG_c33yq"
      },
      "execution_count": 54,
      "outputs": []
    },
    {
      "cell_type": "code",
      "source": [
        "test_df.to_json(\"/content/drive/MyDrive/pittsburgh-annotation/rge_test.json\",orient=\"records\",lines=True)"
      ],
      "metadata": {
        "id": "ypWtraf433vy"
      },
      "execution_count": 55,
      "outputs": []
    },
    {
      "cell_type": "code",
      "source": [
        "import torch\n",
        "from transformers import AutoModel, AutoTokenizer\n",
        "from torch.utils.data import DataLoader, Dataset\n",
        "import numpy as np\n",
        "import random\n",
        "import json\n",
        "from sklearn.metrics import precision_recall_fscore_support, accuracy_score\n",
        "from tqdm import tqdm\n",
        "\n",
        "class TransformersData(Dataset):\n",
        "    def __init__(self, examples, tokenizer, max_seq_length=512, with_label=True):\n",
        "        self.examples = examples\n",
        "        self.tokenizer = tokenizer\n",
        "        self.max_seq_length = max_seq_length\n",
        "        self.with_label = with_label\n",
        "\n",
        "    def __len__(self):\n",
        "        return len(self.examples)\n",
        "\n",
        "    def __getitem__(self, idx):\n",
        "        ex = self.examples[idx]\n",
        "        encoded_input = self.tokenizer(ex[0], padding=\"max_length\", truncation=True, max_length=self.max_seq_length)\n",
        "        input_ids = torch.tensor(encoded_input[\"input_ids\"], dtype=torch.long)\n",
        "        attention_mask = torch.tensor(encoded_input[\"attention_mask\"], dtype=torch.long)\n",
        "\n",
        "        if self.with_label:\n",
        "            labels = torch.tensor(ex[1], dtype=torch.float)\n",
        "            return input_ids, attention_mask, labels\n",
        "        return input_ids, attention_mask\n",
        "\n",
        "def get_examples(filename, with_label=True):\n",
        "    with open(filename, \"r\", encoding=\"utf-8\") as f:\n",
        "        lines = f.read().splitlines()\n",
        "\n",
        "    examples = []\n",
        "    for line in lines:\n",
        "        data = json.loads(line)\n",
        "        text = str(data[\"text\"])\n",
        "        if with_label:\n",
        "            labels = [int(data[\"ethnicity\"]), int(data[\"religion\"]), int(data[\"gender\"])]\n",
        "            examples.append([text, labels])\n",
        "        else:\n",
        "            examples.append([text])\n",
        "    return examples\n",
        "\n",
        "class MLP(torch.nn.Module):\n",
        "    def __init__(self, input_size, output_size, dropout=0.5):\n",
        "        super(MLP, self).__init__()\n",
        "        self.linear = torch.nn.Linear(input_size, output_size)\n",
        "        self.dropout = torch.nn.Dropout(dropout)\n",
        "\n",
        "    def forward(self, x):\n",
        "        x = self.dropout(x)\n",
        "        return self.linear(x)\n",
        "\n",
        "def build_model(train_examples, dev_examples, pretrained_model, tokenizer, n_epochs=10, curr_model_path=\"temp.pt\"):\n",
        "    encoder = AutoModel.from_pretrained(pretrained_model)\n",
        "    classifier = MLP(encoder.config.hidden_size, len(label_list))\n",
        "\n",
        "    train_dataset = TransformersData(train_examples, tokenizer, max_seq_length=max_seq_length)\n",
        "    train_dataloader = DataLoader(dataset=train_dataset, batch_size=batch_size, shuffle=True)\n",
        "    dev_dataset = TransformersData(dev_examples, tokenizer, max_seq_length=max_seq_length)\n",
        "    dev_dataloader = DataLoader(dataset=dev_dataset, batch_size=batch_size)\n",
        "\n",
        "    device = torch.device(\"cuda\" if torch.cuda.is_available() else \"cpu\")\n",
        "    encoder.to(device)\n",
        "    classifier.to(device)\n",
        "\n",
        "    optimizer = torch.optim.AdamW(list(encoder.parameters()) + list(classifier.parameters()), lr=learning_rate)\n",
        "    criterion = torch.nn.BCEWithLogitsLoss()\n",
        "\n",
        "    best_score = -1e6\n",
        "    for epoch in range(n_epochs):\n",
        "        encoder.train()\n",
        "        classifier.train()\n",
        "        total_loss = 0\n",
        "\n",
        "        for batch in tqdm(train_dataloader, desc=\"Training\"):\n",
        "            input_ids, attention_mask, labels = [b.to(device) for b in batch]\n",
        "            optimizer.zero_grad()\n",
        "            embeddings = encoder(input_ids=input_ids, attention_mask=attention_mask)[1]\n",
        "            outputs = classifier(embeddings)\n",
        "            loss = criterion(outputs, labels)\n",
        "            loss.backward()\n",
        "            optimizer.step()\n",
        "            total_loss += loss.item()\n",
        "\n",
        "        avg_train_loss = total_loss / len(train_dataloader)\n",
        "\n",
        "        encoder.eval()\n",
        "        classifier.eval()\n",
        "        all_preds = []\n",
        "        all_labels = []\n",
        "\n",
        "        with torch.no_grad():\n",
        "            for batch in dev_dataloader:\n",
        "                input_ids, attention_mask, labels = [b.to(device) for b in batch]\n",
        "                embeddings = encoder(input_ids=input_ids, attention_mask=attention_mask)[1]\n",
        "                outputs = classifier(embeddings)\n",
        "                preds = torch.sigmoid(outputs).cpu().numpy()\n",
        "                all_preds.append(preds)\n",
        "                all_labels.append(labels.cpu().numpy())\n",
        "\n",
        "        all_preds = np.vstack(all_preds)\n",
        "        all_labels = np.vstack(all_labels)\n",
        "\n",
        "        precision, recall, f1, _ = precision_recall_fscore_support(all_labels, (all_preds > 0.5).astype(int), average='macro')\n",
        "        accuracy = accuracy_score(all_labels, (all_preds > 0.5).astype(int))\n",
        "\n",
        "        print(f\"Epoch {epoch + 1} - Loss: {avg_train_loss:.4f} - Precision: {precision:.4f} - Recall: {recall:.4f} - F1: {f1:.4f} - Accuracy: {accuracy:.4f}\")\n",
        "\n",
        "        if f1 > best_score:\n",
        "            best_score = f1\n",
        "            print(\"Saving model!\")\n",
        "            torch.save(classifier.state_dict(), repo_path + \"/models/classifier_\" + curr_model_path)\n",
        "            encoder_to_save = encoder.module if hasattr(encoder, 'module') else encoder\n",
        "            torch.save(encoder_to_save.state_dict(), repo_path + \"/models/encoder_\" + curr_model_path)\n",
        "            tokenizer.save_pretrained(repo_path + \"/models/tokenizer_\" + curr_model_path)\n",
        "\n",
        "    return encoder, classifier\n",
        "\n",
        "if __name__ == \"__main__\":\n",
        "    pretrained_model = \"dbmdz/bert-base-turkish-128k-cased\"\n",
        "    seed = 42\n",
        "    max_seq_length = 512\n",
        "    batch_size = 8\n",
        "    dev_ratio = 0.1\n",
        "    learning_rate = 2e-5\n",
        "    n_epochs = 5\n",
        "    model_path = \"model\"\n",
        "\n",
        "    random.seed(seed)\n",
        "    np.random.seed(seed)\n",
        "    torch.manual_seed(seed)\n",
        "    if torch.cuda.is_available():\n",
        "        torch.cuda.manual_seed_all(seed)\n",
        "\n",
        "    train_filename = \"/content/drive/MyDrive/pittsburgh-annotation/rge_train.json\"\n",
        "    test_filename = \"/content/drive/MyDrive/pittsburgh-annotation/rge_test.json\"\n",
        "    label_list = [\"ethnicity\", \"religion\", \"gender\"]\n",
        "\n",
        "    train_examples = get_examples(train_filename)\n",
        "    random.shuffle(train_examples)\n",
        "    dev_split = int(len(train_examples) * dev_ratio)\n",
        "    dev_examples = train_examples[:dev_split]\n",
        "    train_examples = train_examples[dev_split:]\n",
        "\n",
        "    tokenizer = AutoTokenizer.from_pretrained(pretrained_model)\n",
        "\n",
        "    encoder, classifier = build_model(train_examples, dev_examples, pretrained_model, tokenizer, n_epochs, model_path)\n"
      ],
      "metadata": {
        "colab": {
          "base_uri": "https://localhost:8080/"
        },
        "id": "atZOfsXHBDOw",
        "outputId": "a6124473-e1ce-4b8a-cf25-32b1aaca0a4e"
      },
      "execution_count": 84,
      "outputs": [
        {
          "output_type": "stream",
          "name": "stderr",
          "text": [
            "Training: 100%|██████████| 55/55 [00:09<00:00,  5.84it/s]\n",
            "/usr/local/lib/python3.10/dist-packages/sklearn/metrics/_classification.py:1344: UndefinedMetricWarning: Precision and F-score are ill-defined and being set to 0.0 in labels with no predicted samples. Use `zero_division` parameter to control this behavior.\n",
            "  _warn_prf(average, modifier, msg_start, len(result))\n"
          ]
        },
        {
          "output_type": "stream",
          "name": "stdout",
          "text": [
            "Epoch 1 - Loss: 0.3742 - Precision: 0.2917 - Recall: 0.3333 - F1: 0.3111 - Accuracy: 0.8542\n",
            "Saving model!\n"
          ]
        },
        {
          "output_type": "stream",
          "name": "stderr",
          "text": [
            "Training: 100%|██████████| 55/55 [00:09<00:00,  5.83it/s]\n",
            "/usr/local/lib/python3.10/dist-packages/sklearn/metrics/_classification.py:1344: UndefinedMetricWarning: Precision and F-score are ill-defined and being set to 0.0 in labels with no predicted samples. Use `zero_division` parameter to control this behavior.\n",
            "  _warn_prf(average, modifier, msg_start, len(result))\n"
          ]
        },
        {
          "output_type": "stream",
          "name": "stdout",
          "text": [
            "Epoch 2 - Loss: 0.3027 - Precision: 0.2917 - Recall: 0.3333 - F1: 0.3111 - Accuracy: 0.8542\n"
          ]
        },
        {
          "output_type": "stream",
          "name": "stderr",
          "text": [
            "Training: 100%|██████████| 55/55 [00:09<00:00,  5.84it/s]\n",
            "/usr/local/lib/python3.10/dist-packages/sklearn/metrics/_classification.py:1344: UndefinedMetricWarning: Precision and F-score are ill-defined and being set to 0.0 in labels with no predicted samples. Use `zero_division` parameter to control this behavior.\n",
            "  _warn_prf(average, modifier, msg_start, len(result))\n"
          ]
        },
        {
          "output_type": "stream",
          "name": "stdout",
          "text": [
            "Epoch 3 - Loss: 0.2801 - Precision: 0.2979 - Recall: 0.3333 - F1: 0.3146 - Accuracy: 0.8542\n",
            "Saving model!\n"
          ]
        },
        {
          "output_type": "stream",
          "name": "stderr",
          "text": [
            "Training: 100%|██████████| 55/55 [00:09<00:00,  5.84it/s]\n",
            "/usr/local/lib/python3.10/dist-packages/sklearn/metrics/_classification.py:1344: UndefinedMetricWarning: Precision and F-score are ill-defined and being set to 0.0 in labels with no predicted samples. Use `zero_division` parameter to control this behavior.\n",
            "  _warn_prf(average, modifier, msg_start, len(result))\n"
          ]
        },
        {
          "output_type": "stream",
          "name": "stdout",
          "text": [
            "Epoch 4 - Loss: 0.2107 - Precision: 0.6512 - Recall: 0.6587 - F1: 0.6549 - Accuracy: 0.8958\n",
            "Saving model!\n"
          ]
        },
        {
          "output_type": "stream",
          "name": "stderr",
          "text": [
            "Training: 100%|██████████| 55/55 [00:09<00:00,  5.83it/s]\n"
          ]
        },
        {
          "output_type": "stream",
          "name": "stdout",
          "text": [
            "Epoch 5 - Loss: 0.1367 - Precision: 0.6512 - Recall: 0.6587 - F1: 0.6549 - Accuracy: 0.8958\n"
          ]
        },
        {
          "output_type": "stream",
          "name": "stderr",
          "text": [
            "/usr/local/lib/python3.10/dist-packages/sklearn/metrics/_classification.py:1344: UndefinedMetricWarning: Precision and F-score are ill-defined and being set to 0.0 in labels with no predicted samples. Use `zero_division` parameter to control this behavior.\n",
            "  _warn_prf(average, modifier, msg_start, len(result))\n"
          ]
        }
      ]
    },
    {
      "cell_type": "code",
      "source": [
        "import os\n",
        "import torch\n",
        "from transformers import AutoModel, AutoTokenizer\n",
        "from torch.utils.data import DataLoader, Dataset\n",
        "import numpy as np\n",
        "import random\n",
        "import json\n",
        "from sklearn.metrics import precision_recall_fscore_support, accuracy_score\n",
        "from tqdm import tqdm\n",
        "\n",
        "class TransformersData(Dataset):\n",
        "    def __init__(self, examples, tokenizer, max_seq_length=512, with_label=True):\n",
        "        self.examples = examples\n",
        "        self.tokenizer = tokenizer\n",
        "        self.max_seq_length = max_seq_length\n",
        "        self.with_label = with_label\n",
        "\n",
        "    def __len__(self):\n",
        "        return len(self.examples)\n",
        "\n",
        "    def __getitem__(self, idx):\n",
        "        ex = self.examples[idx]\n",
        "        encoded_input = self.tokenizer(ex[0], padding=\"max_length\", truncation=True, max_length=self.max_seq_length)\n",
        "        input_ids = torch.tensor(encoded_input[\"input_ids\"], dtype=torch.long)\n",
        "        attention_mask = torch.tensor(encoded_input[\"attention_mask\"], dtype=torch.long)\n",
        "\n",
        "        if self.with_label:\n",
        "            labels = torch.tensor(ex[1], dtype=torch.float)\n",
        "            return input_ids, attention_mask, labels\n",
        "        return input_ids, attention_mask\n",
        "\n",
        "def get_examples(filename, with_label=True):\n",
        "    with open(filename, \"r\", encoding=\"utf-8\") as f:\n",
        "        lines = f.read().splitlines()\n",
        "\n",
        "    examples = []\n",
        "    for line in lines:\n",
        "        data = json.loads(line)\n",
        "        text = str(data[\"text\"])\n",
        "        if with_label:\n",
        "            labels = [int(data[\"ethnicity\"]), int(data[\"religion\"]), int(data[\"gender\"])]\n",
        "            examples.append([text, labels])\n",
        "        else:\n",
        "            examples.append([text])\n",
        "    return examples\n",
        "\n",
        "class MLP(torch.nn.Module):\n",
        "    def __init__(self, input_size, output_size, dropout=0.5):\n",
        "        super(MLP, self).__init__()\n",
        "        self.linear = torch.nn.Linear(input_size, output_size)\n",
        "        self.dropout = torch.nn.Dropout(dropout)\n",
        "\n",
        "    def forward(self, x):\n",
        "        x = self.dropout(x)\n",
        "        return self.linear(x)\n",
        "\n",
        "def build_model(train_examples, dev_examples, pretrained_model, tokenizer, n_epochs=10, curr_model_path=\"temp.pt\"):\n",
        "    encoder = AutoModel.from_pretrained(pretrained_model)\n",
        "    classifier = MLP(encoder.config.hidden_size, len(label_list))\n",
        "\n",
        "    train_dataset = TransformersData(train_examples, tokenizer, max_seq_length=max_seq_length)\n",
        "    train_dataloader = DataLoader(dataset=train_dataset, batch_size=batch_size, shuffle=True)\n",
        "    dev_dataset = TransformersData(dev_examples, tokenizer, max_seq_length=max_seq_length)\n",
        "    dev_dataloader = DataLoader(dataset=dev_dataset, batch_size=batch_size)\n",
        "\n",
        "    device = torch.device(\"cuda\" if torch.cuda.is_available() else \"cpu\")\n",
        "    encoder.to(device)\n",
        "    classifier.to(device)\n",
        "\n",
        "    optimizer = torch.optim.AdamW(list(encoder.parameters()) + list(classifier.parameters()), lr=learning_rate)\n",
        "    criterion = torch.nn.BCEWithLogitsLoss()\n",
        "\n",
        "    best_score = -1e6\n",
        "    for epoch in range(n_epochs):\n",
        "        encoder.train()\n",
        "        classifier.train()\n",
        "        total_loss = 0\n",
        "\n",
        "        for batch in tqdm(train_dataloader, desc=\"Training\"):\n",
        "            input_ids, attention_mask, labels = [b.to(device) for b in batch]\n",
        "            optimizer.zero_grad()\n",
        "            embeddings = encoder(input_ids=input_ids, attention_mask=attention_mask)[1]\n",
        "            outputs = classifier(embeddings)\n",
        "            loss = criterion(outputs, labels)\n",
        "            loss.backward()\n",
        "            optimizer.step()\n",
        "            total_loss += loss.item()\n",
        "\n",
        "        avg_train_loss = total_loss / len(train_dataloader)\n",
        "\n",
        "        encoder.eval()\n",
        "        classifier.eval()\n",
        "        all_preds = []\n",
        "        all_labels = []\n",
        "\n",
        "        with torch.no_grad():\n",
        "            for batch in dev_dataloader:\n",
        "                input_ids, attention_mask, labels = [b.to(device) for b in batch]\n",
        "                embeddings = encoder(input_ids=input_ids, attention_mask=attention_mask)[1]\n",
        "                outputs = classifier(embeddings)\n",
        "                preds = torch.sigmoid(outputs).cpu().numpy()\n",
        "                all_preds.append(preds)\n",
        "                all_labels.append(labels.cpu().numpy())\n",
        "\n",
        "        all_preds = np.vstack(all_preds)\n",
        "        all_labels = np.vstack(all_labels)\n",
        "\n",
        "        precision, recall, f1, _ = precision_recall_fscore_support(\n",
        "            all_labels, (all_preds > 0.5).astype(int), average='macro', zero_division=0\n",
        "        )\n",
        "        accuracy = accuracy_score(all_labels, (all_preds > 0.5).astype(int))\n",
        "\n",
        "        print(f\"Epoch {epoch + 1} - Loss: {avg_train_loss:.4f} - Precision: {precision:.4f} - Recall: {recall:.4f} - F1: {f1:.4f} - Accuracy: {accuracy:.4f}\")\n",
        "\n",
        "        if f1 > best_score:\n",
        "            best_score = f1\n",
        "            print(\"Saving model!\")\n",
        "            model_dir = \"content/drive/MyDrive/pittsburgh-annotation/models\"\n",
        "            os.makedirs(model_dir, exist_ok=True)\n",
        "            classifier_name = os.path.join(model_dir, f\"classifier_hate_rge_dbmdz_bert-base-turkish-128k-cased_{max_seq_length}_{batch_size}_{learning_rate:.1e}_{seed}.pt\")\n",
        "            encoder_name = os.path.join(model_dir, f\"encoder_hate_rge_dbmdz_bert-base-turkish-128k-cased_{max_seq_length}_{batch_size}_{learning_rate:.1e}_{seed}.pt\")\n",
        "            torch.save(classifier.state_dict(), classifier_name)\n",
        "            encoder_to_save = encoder.module if hasattr(encoder, 'module') else encoder\n",
        "            torch.save(encoder_to_save.state_dict(), encoder_name)\n",
        "            tokenizer.save_pretrained(os.path.join(model_dir, f\"tokenizer_hate_rge_dbmdz_bert-base-turkish-128k-cased_{max_seq_length}_{batch_size}_{learning_rate:.1e}_{seed}\"))\n",
        "\n",
        "    return encoder, classifier\n",
        "\n",
        "if __name__ == \"__main__\":\n",
        "    pretrained_model = \"dbmdz/bert-base-turkish-128k-cased\"\n",
        "    seed = 42\n",
        "    max_seq_length = 512\n",
        "    batch_size = 8\n",
        "    dev_ratio = 0.1\n",
        "    learning_rate = 2e-5\n",
        "    n_epochs = 5\n",
        "\n",
        "    random.seed(seed)\n",
        "    np.random.seed(seed)\n",
        "    torch.manual_seed(seed)\n",
        "    if torch.cuda.is_available():\n",
        "        torch.cuda.manual_seed_all(seed)\n",
        "\n",
        "    train_filename = \"/content/drive/MyDrive/pittsburgh-annotation/rge_train.json\"\n",
        "    test_filename = \"/content/drive/MyDrive/pittsburgh-annotation/rge_test.json\"\n",
        "    label_list = [\"ethnicity\", \"religion\", \"gender\"]\n",
        "\n",
        "    train_examples = get_examples(train_filename)\n",
        "    random.shuffle(train_examples)\n",
        "    dev_split = int(len(train_examples) * dev_ratio)\n",
        "    dev_examples = train_examples[:dev_split]\n",
        "    train_examples = train_examples[dev_split:]\n",
        "\n",
        "    tokenizer = AutoTokenizer.from_pretrained(pretrained_model)\n",
        "\n",
        "    encoder, classifier = build_model(train_examples, dev_examples, pretrained_model, tokenizer, n_epochs)\n"
      ],
      "metadata": {
        "colab": {
          "base_uri": "https://localhost:8080/"
        },
        "id": "I23FUi0jIcMw",
        "outputId": "22245009-4efb-41b8-96db-bd3d0ef86ddf"
      },
      "execution_count": 88,
      "outputs": [
        {
          "output_type": "stream",
          "name": "stderr",
          "text": [
            "Training: 100%|██████████| 55/55 [00:09<00:00,  5.83it/s]\n"
          ]
        },
        {
          "output_type": "stream",
          "name": "stdout",
          "text": [
            "Epoch 1 - Loss: 0.3742 - Precision: 0.2917 - Recall: 0.3333 - F1: 0.3111 - Accuracy: 0.8542\n",
            "Saving model!\n"
          ]
        },
        {
          "output_type": "stream",
          "name": "stderr",
          "text": [
            "Training: 100%|██████████| 55/55 [00:09<00:00,  5.87it/s]\n"
          ]
        },
        {
          "output_type": "stream",
          "name": "stdout",
          "text": [
            "Epoch 2 - Loss: 0.3027 - Precision: 0.2917 - Recall: 0.3333 - F1: 0.3111 - Accuracy: 0.8542\n"
          ]
        },
        {
          "output_type": "stream",
          "name": "stderr",
          "text": [
            "Training: 100%|██████████| 55/55 [00:09<00:00,  5.87it/s]\n"
          ]
        },
        {
          "output_type": "stream",
          "name": "stdout",
          "text": [
            "Epoch 3 - Loss: 0.2801 - Precision: 0.2979 - Recall: 0.3333 - F1: 0.3146 - Accuracy: 0.8542\n",
            "Saving model!\n"
          ]
        },
        {
          "output_type": "stream",
          "name": "stderr",
          "text": [
            "Training: 100%|██████████| 55/55 [00:09<00:00,  5.84it/s]\n"
          ]
        },
        {
          "output_type": "stream",
          "name": "stdout",
          "text": [
            "Epoch 4 - Loss: 0.2107 - Precision: 0.6512 - Recall: 0.6587 - F1: 0.6549 - Accuracy: 0.8958\n",
            "Saving model!\n"
          ]
        },
        {
          "output_type": "stream",
          "name": "stderr",
          "text": [
            "Training: 100%|██████████| 55/55 [00:09<00:00,  5.84it/s]\n"
          ]
        },
        {
          "output_type": "stream",
          "name": "stdout",
          "text": [
            "Epoch 5 - Loss: 0.1367 - Precision: 0.6512 - Recall: 0.6587 - F1: 0.6549 - Accuracy: 0.8958\n"
          ]
        }
      ]
    }
  ]
}